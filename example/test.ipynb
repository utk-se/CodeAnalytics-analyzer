{
 "cells": [
  {
   "cell_type": "markdown",
   "metadata": {},
   "source": [
    "# CAanalyzer Main\n",
    "Demonstrates usage of the CAanalyzer class. Does frequency and scaled plots"
   ]
  },
  {
   "cell_type": "code",
   "execution_count": 1,
   "metadata": {},
   "outputs": [
    {
     "output_type": "stream",
     "name": "stdout",
     "text": [
      "Processing /home/solsane/research/codeanalytics/CodeAnalytics-analyzer\n",
      "Requirement already satisfied: lizard>=1.17.3 in /home/solsane/anaconda3/lib/python3.8/site-packages (from CAanalyzer==0.0.4) (1.17.7)\n",
      "Requirement already satisfied: ca-distributor@ git+ssh://git@github.com/utk-se/CodeAnalytics-distributor.git#egg=ca-distributor-0.1 from git+ssh://****@github.com/utk-se/CodeAnalytics-distributor.git#egg=ca-distributor-0.1 in /home/solsane/anaconda3/lib/python3.8/site-packages (from CAanalyzer==0.0.4) (0.0.2.dev0)\n",
      "Requirement already satisfied: toml in /home/solsane/anaconda3/lib/python3.8/site-packages (from ca-distributor@ git+ssh://git@github.com/utk-se/CodeAnalytics-distributor.git#egg=ca-distributor-0.1->CAanalyzer==0.0.4) (0.10.1)\n",
      "Requirement already satisfied: Flask-HTTPAuth in /home/solsane/anaconda3/lib/python3.8/site-packages (from ca-distributor@ git+ssh://git@github.com/utk-se/CodeAnalytics-distributor.git#egg=ca-distributor-0.1->CAanalyzer==0.0.4) (4.1.0)\n",
      "Requirement already satisfied: pygit2 in /home/solsane/anaconda3/lib/python3.8/site-packages (from ca-distributor@ git+ssh://git@github.com/utk-se/CodeAnalytics-distributor.git#egg=ca-distributor-0.1->CAanalyzer==0.0.4) (1.3.0)\n",
      "Requirement already satisfied: coloredlogs in /home/solsane/anaconda3/lib/python3.8/site-packages (from ca-distributor@ git+ssh://git@github.com/utk-se/CodeAnalytics-distributor.git#egg=ca-distributor-0.1->CAanalyzer==0.0.4) (14.0)\n",
      "Requirement already satisfied: Flask in /home/solsane/anaconda3/lib/python3.8/site-packages (from ca-distributor@ git+ssh://git@github.com/utk-se/CodeAnalytics-distributor.git#egg=ca-distributor-0.1->CAanalyzer==0.0.4) (1.1.2)\n",
      "Requirement already satisfied: requests in /home/solsane/anaconda3/lib/python3.8/site-packages (from ca-distributor@ git+ssh://git@github.com/utk-se/CodeAnalytics-distributor.git#egg=ca-distributor-0.1->CAanalyzer==0.0.4) (2.24.0)\n",
      "Requirement already satisfied: pymongo in /home/solsane/anaconda3/lib/python3.8/site-packages (from ca-distributor@ git+ssh://git@github.com/utk-se/CodeAnalytics-distributor.git#egg=ca-distributor-0.1->CAanalyzer==0.0.4) (3.11.0)\n",
      "Requirement already satisfied: gunicorn in /home/solsane/anaconda3/lib/python3.8/site-packages (from ca-distributor@ git+ssh://git@github.com/utk-se/CodeAnalytics-distributor.git#egg=ca-distributor-0.1->CAanalyzer==0.0.4) (20.0.4)\n",
      "Requirement already satisfied: cached-property in /home/solsane/anaconda3/lib/python3.8/site-packages (from pygit2->ca-distributor@ git+ssh://git@github.com/utk-se/CodeAnalytics-distributor.git#egg=ca-distributor-0.1->CAanalyzer==0.0.4) (1.5.2)\n",
      "Requirement already satisfied: cffi>=1.4.0 in /home/solsane/anaconda3/lib/python3.8/site-packages (from pygit2->ca-distributor@ git+ssh://git@github.com/utk-se/CodeAnalytics-distributor.git#egg=ca-distributor-0.1->CAanalyzer==0.0.4) (1.14.0)\n",
      "Requirement already satisfied: humanfriendly>=7.1 in /home/solsane/anaconda3/lib/python3.8/site-packages (from coloredlogs->ca-distributor@ git+ssh://git@github.com/utk-se/CodeAnalytics-distributor.git#egg=ca-distributor-0.1->CAanalyzer==0.0.4) (8.2)\n",
      "Requirement already satisfied: itsdangerous>=0.24 in /home/solsane/anaconda3/lib/python3.8/site-packages (from Flask->ca-distributor@ git+ssh://git@github.com/utk-se/CodeAnalytics-distributor.git#egg=ca-distributor-0.1->CAanalyzer==0.0.4) (1.1.0)\n",
      "Requirement already satisfied: Jinja2>=2.10.1 in /home/solsane/anaconda3/lib/python3.8/site-packages (from Flask->ca-distributor@ git+ssh://git@github.com/utk-se/CodeAnalytics-distributor.git#egg=ca-distributor-0.1->CAanalyzer==0.0.4) (2.11.2)\n",
      "Requirement already satisfied: click>=5.1 in /home/solsane/anaconda3/lib/python3.8/site-packages (from Flask->ca-distributor@ git+ssh://git@github.com/utk-se/CodeAnalytics-distributor.git#egg=ca-distributor-0.1->CAanalyzer==0.0.4) (7.1.2)\n",
      "Requirement already satisfied: Werkzeug>=0.15 in /home/solsane/anaconda3/lib/python3.8/site-packages (from Flask->ca-distributor@ git+ssh://git@github.com/utk-se/CodeAnalytics-distributor.git#egg=ca-distributor-0.1->CAanalyzer==0.0.4) (1.0.1)\n",
      "Requirement already satisfied: idna<3,>=2.5 in /home/solsane/anaconda3/lib/python3.8/site-packages (from requests->ca-distributor@ git+ssh://git@github.com/utk-se/CodeAnalytics-distributor.git#egg=ca-distributor-0.1->CAanalyzer==0.0.4) (2.10)\n",
      "Requirement already satisfied: urllib3!=1.25.0,!=1.25.1,<1.26,>=1.21.1 in /home/solsane/anaconda3/lib/python3.8/site-packages (from requests->ca-distributor@ git+ssh://git@github.com/utk-se/CodeAnalytics-distributor.git#egg=ca-distributor-0.1->CAanalyzer==0.0.4) (1.25.9)\n",
      "Requirement already satisfied: chardet<4,>=3.0.2 in /home/solsane/anaconda3/lib/python3.8/site-packages (from requests->ca-distributor@ git+ssh://git@github.com/utk-se/CodeAnalytics-distributor.git#egg=ca-distributor-0.1->CAanalyzer==0.0.4) (3.0.4)\n",
      "Requirement already satisfied: certifi>=2017.4.17 in /home/solsane/anaconda3/lib/python3.8/site-packages (from requests->ca-distributor@ git+ssh://git@github.com/utk-se/CodeAnalytics-distributor.git#egg=ca-distributor-0.1->CAanalyzer==0.0.4) (2020.6.20)\n",
      "Requirement already satisfied: setuptools>=3.0 in /home/solsane/anaconda3/lib/python3.8/site-packages (from gunicorn->ca-distributor@ git+ssh://git@github.com/utk-se/CodeAnalytics-distributor.git#egg=ca-distributor-0.1->CAanalyzer==0.0.4) (49.2.0.post20200714)\n",
      "Requirement already satisfied: pycparser in /home/solsane/anaconda3/lib/python3.8/site-packages (from cffi>=1.4.0->pygit2->ca-distributor@ git+ssh://git@github.com/utk-se/CodeAnalytics-distributor.git#egg=ca-distributor-0.1->CAanalyzer==0.0.4) (2.20)\n",
      "Requirement already satisfied: MarkupSafe>=0.23 in /home/solsane/anaconda3/lib/python3.8/site-packages (from Jinja2>=2.10.1->Flask->ca-distributor@ git+ssh://git@github.com/utk-se/CodeAnalytics-distributor.git#egg=ca-distributor-0.1->CAanalyzer==0.0.4) (1.1.1)\n",
      "Building wheels for collected packages: CAanalyzer\n",
      "  Building wheel for CAanalyzer (setup.py) ... \u001b[?25ldone\n",
      "\u001b[?25h  Created wheel for CAanalyzer: filename=CAanalyzer-0.0.4-py3-none-any.whl size=9811 sha256=fb6c78f54a19e6151e8856823a87a24bfbd83ec0ed93212911f7fe8f9c6d5836\n",
      "  Stored in directory: /home/solsane/.cache/pip/wheels/f9/2b/db/ccb3298d1ed3013586e60be3ec5ad69bc23682995067d0dac2\n",
      "Successfully built CAanalyzer\n",
      "Installing collected packages: CAanalyzer\n",
      "  Attempting uninstall: CAanalyzer\n",
      "    Found existing installation: CAanalyzer 0.0.4\n",
      "    Uninstalling CAanalyzer-0.0.4:\n",
      "      Successfully uninstalled CAanalyzer-0.0.4\n",
      "Successfully installed CAanalyzer-0.0.4\n"
     ]
    }
   ],
   "source": [
    "# install the package\n",
    "!pip install ../"
   ]
  },
  {
   "cell_type": "code",
   "execution_count": 2,
   "metadata": {},
   "outputs": [
    {
     "output_type": "stream",
     "name": "stderr",
     "text": [
      "UsageError: Line magic function `%` not found.\n"
     ]
    }
   ],
   "source": [
    "% matplotlib inline"
   ]
  },
  {
   "cell_type": "code",
   "execution_count": 3,
   "metadata": {},
   "outputs": [],
   "source": [
    "import numpy as np\n",
    "import pandas as pd\n",
    "from caanalyzer import CodeRepo\n",
    "from caanalyzer.tokens import MethodTokenizer, FileTokenizer, LineTokenizer, Tokenizer\n",
    "from caanalyzer.metrics import width, height, num_tokens"
   ]
  },
  {
   "cell_type": "code",
   "execution_count": 4,
   "metadata": {},
   "outputs": [
    {
     "output_type": "stream",
     "name": "stderr",
     "text": [
      "[2020-10-21 18:56:25] [    INFO] [analyzer __init__] languages found: {'.py'}\n",
      "[2020-10-21 18:56:25] [    INFO] [analyzer __init__] number of valid files found: 9\n"
     ]
    }
   ],
   "source": [
    "repo = CodeRepo('..')"
   ]
  },
  {
   "cell_type": "code",
   "execution_count": 5,
   "metadata": {
    "tags": []
   },
   "outputs": [
    {
     "output_type": "stream",
     "name": "stderr",
     "text": [
      "[2020-10-21 18:56:25] [    INFO] [analyzer index] Indexing this repository...\n",
      "100%|██████████| 9/9 [00:00<00:00, 340.68it/s]\n",
      "[2020-10-21 18:56:25] [    INFO] [analyzer index] Creating dataframe...\n",
      "[2020-10-21 18:56:25] [    INFO] [analyzer index] Repository /home/solsane/research/codeanalytics/CodeAnalytics-analyzer/example/.. indexed for analysis\n"
     ]
    }
   ],
   "source": [
    "repo.index([FileTokenizer, LineTokenizer, MethodTokenizer], {'size' : len, 'width': width, 'height' : height, 'num_tokens': num_tokens})"
   ]
  },
  {
   "cell_type": "code",
   "execution_count": 8,
   "metadata": {},
   "outputs": [
    {
     "output_type": "execute_result",
     "data": {
      "text/plain": [
       "                                                                  line_start  \\\n",
       "file_path                                          token_type id               \n",
       "/home/solsane/research/codeanalytics/CodeAnalyt... file       0            0   \n",
       "                                                   newline    0            0   \n",
       "                                                              1            1   \n",
       "                                                              2            2   \n",
       "                                                              3            3   \n",
       "...                                                                      ...   \n",
       "/home/solsane/research/codeanalytics/CodeAnalyt... method     6          183   \n",
       "                                                              7          197   \n",
       "                                                              8          205   \n",
       "                                                              9          212   \n",
       "                                                              10         222   \n",
       "\n",
       "                                                                  line_end  \\\n",
       "file_path                                          token_type id             \n",
       "/home/solsane/research/codeanalytics/CodeAnalyt... file       0         37   \n",
       "                                                   newline    0          1   \n",
       "                                                              1          2   \n",
       "                                                              2          3   \n",
       "                                                              3          4   \n",
       "...                                                                    ...   \n",
       "/home/solsane/research/codeanalytics/CodeAnalyt... method     6        191   \n",
       "                                                              7        199   \n",
       "                                                              8        207   \n",
       "                                                              9        214   \n",
       "                                                              10       290   \n",
       "\n",
       "                                                                  char_start  \\\n",
       "file_path                                          token_type id               \n",
       "/home/solsane/research/codeanalytics/CodeAnalyt... file       0            0   \n",
       "                                                   newline    0            0   \n",
       "                                                              1            0   \n",
       "                                                              2            0   \n",
       "                                                              3            0   \n",
       "...                                                                      ...   \n",
       "/home/solsane/research/codeanalytics/CodeAnalyt... method     6            4   \n",
       "                                                              7            4   \n",
       "                                                              8            4   \n",
       "                                                              9            4   \n",
       "                                                              10           4   \n",
       "\n",
       "                                                                  char_end  \\\n",
       "file_path                                          token_type id             \n",
       "/home/solsane/research/codeanalytics/CodeAnalyt... file       0          0   \n",
       "                                                   newline    0         44   \n",
       "                                                              1          1   \n",
       "                                                              2         53   \n",
       "                                                              3          1   \n",
       "...                                                                    ...   \n",
       "/home/solsane/research/codeanalytics/CodeAnalyt... method     6         41   \n",
       "                                                              7         34   \n",
       "                                                              8         34   \n",
       "                                                              9         28   \n",
       "                                                              10        78   \n",
       "\n",
       "                                                                  size  width  \\\n",
       "file_path                                          token_type id                \n",
       "/home/solsane/research/codeanalytics/CodeAnalyt... file       0     37    111   \n",
       "                                                   newline    0      1     43   \n",
       "                                                              1      1      0   \n",
       "                                                              2      1     52   \n",
       "                                                              3      1      0   \n",
       "...                                                                ...    ...   \n",
       "/home/solsane/research/codeanalytics/CodeAnalyt... method     6      8     57   \n",
       "                                                              7      2     37   \n",
       "                                                              8      2     33   \n",
       "                                                              9      2     27   \n",
       "                                                              10    68    115   \n",
       "\n",
       "                                                                  height  \\\n",
       "file_path                                          token_type id           \n",
       "/home/solsane/research/codeanalytics/CodeAnalyt... file       0       37   \n",
       "                                                   newline    0        1   \n",
       "                                                              1        1   \n",
       "                                                              2        1   \n",
       "                                                              3        1   \n",
       "...                                                                  ...   \n",
       "/home/solsane/research/codeanalytics/CodeAnalyt... method     6        8   \n",
       "                                                              7        2   \n",
       "                                                              8        2   \n",
       "                                                              9        2   \n",
       "                                                              10      68   \n",
       "\n",
       "                                                                  num_tokens  \n",
       "file_path                                          token_type id              \n",
       "/home/solsane/research/codeanalytics/CodeAnalyt... file       0           91  \n",
       "                                                   newline    0            5  \n",
       "                                                              1            0  \n",
       "                                                              2            6  \n",
       "                                                              3            0  \n",
       "...                                                                      ...  \n",
       "/home/solsane/research/codeanalytics/CodeAnalyt... method     6           17  \n",
       "                                                              7            5  \n",
       "                                                              8            5  \n",
       "                                                              9            4  \n",
       "                                                              10         202  \n",
       "\n",
       "[848 rows x 8 columns]"
      ],
      "text/html": "<div>\n<style scoped>\n    .dataframe tbody tr th:only-of-type {\n        vertical-align: middle;\n    }\n\n    .dataframe tbody tr th {\n        vertical-align: top;\n    }\n\n    .dataframe thead th {\n        text-align: right;\n    }\n</style>\n<table border=\"1\" class=\"dataframe\">\n  <thead>\n    <tr style=\"text-align: right;\">\n      <th></th>\n      <th></th>\n      <th></th>\n      <th>line_start</th>\n      <th>line_end</th>\n      <th>char_start</th>\n      <th>char_end</th>\n      <th>size</th>\n      <th>width</th>\n      <th>height</th>\n      <th>num_tokens</th>\n    </tr>\n    <tr>\n      <th>file_path</th>\n      <th>token_type</th>\n      <th>id</th>\n      <th></th>\n      <th></th>\n      <th></th>\n      <th></th>\n      <th></th>\n      <th></th>\n      <th></th>\n      <th></th>\n    </tr>\n  </thead>\n  <tbody>\n    <tr>\n      <th rowspan=\"5\" valign=\"top\">/home/solsane/research/codeanalytics/CodeAnalytics-analyzer/example/../setup.py</th>\n      <th>file</th>\n      <th>0</th>\n      <td>0</td>\n      <td>37</td>\n      <td>0</td>\n      <td>0</td>\n      <td>37</td>\n      <td>111</td>\n      <td>37</td>\n      <td>91</td>\n    </tr>\n    <tr>\n      <th rowspan=\"4\" valign=\"top\">newline</th>\n      <th>0</th>\n      <td>0</td>\n      <td>1</td>\n      <td>0</td>\n      <td>44</td>\n      <td>1</td>\n      <td>43</td>\n      <td>1</td>\n      <td>5</td>\n    </tr>\n    <tr>\n      <th>1</th>\n      <td>1</td>\n      <td>2</td>\n      <td>0</td>\n      <td>1</td>\n      <td>1</td>\n      <td>0</td>\n      <td>1</td>\n      <td>0</td>\n    </tr>\n    <tr>\n      <th>2</th>\n      <td>2</td>\n      <td>3</td>\n      <td>0</td>\n      <td>53</td>\n      <td>1</td>\n      <td>52</td>\n      <td>1</td>\n      <td>6</td>\n    </tr>\n    <tr>\n      <th>3</th>\n      <td>3</td>\n      <td>4</td>\n      <td>0</td>\n      <td>1</td>\n      <td>1</td>\n      <td>0</td>\n      <td>1</td>\n      <td>0</td>\n    </tr>\n    <tr>\n      <th>...</th>\n      <th>...</th>\n      <th>...</th>\n      <td>...</td>\n      <td>...</td>\n      <td>...</td>\n      <td>...</td>\n      <td>...</td>\n      <td>...</td>\n      <td>...</td>\n      <td>...</td>\n    </tr>\n    <tr>\n      <th rowspan=\"5\" valign=\"top\">/home/solsane/research/codeanalytics/CodeAnalytics-analyzer/example/../caanalyzer/analyzer.py</th>\n      <th rowspan=\"5\" valign=\"top\">method</th>\n      <th>6</th>\n      <td>183</td>\n      <td>191</td>\n      <td>4</td>\n      <td>41</td>\n      <td>8</td>\n      <td>57</td>\n      <td>8</td>\n      <td>17</td>\n    </tr>\n    <tr>\n      <th>7</th>\n      <td>197</td>\n      <td>199</td>\n      <td>4</td>\n      <td>34</td>\n      <td>2</td>\n      <td>37</td>\n      <td>2</td>\n      <td>5</td>\n    </tr>\n    <tr>\n      <th>8</th>\n      <td>205</td>\n      <td>207</td>\n      <td>4</td>\n      <td>34</td>\n      <td>2</td>\n      <td>33</td>\n      <td>2</td>\n      <td>5</td>\n    </tr>\n    <tr>\n      <th>9</th>\n      <td>212</td>\n      <td>214</td>\n      <td>4</td>\n      <td>28</td>\n      <td>2</td>\n      <td>27</td>\n      <td>2</td>\n      <td>4</td>\n    </tr>\n    <tr>\n      <th>10</th>\n      <td>222</td>\n      <td>290</td>\n      <td>4</td>\n      <td>78</td>\n      <td>68</td>\n      <td>115</td>\n      <td>68</td>\n      <td>202</td>\n    </tr>\n  </tbody>\n</table>\n<p>848 rows × 8 columns</p>\n</div>"
     },
     "metadata": {},
     "execution_count": 8
    }
   ],
   "source": [
    "# get average c++ file info\n",
    "repo.df.xs(('.py'), level=('lang'))"
   ]
  },
  {
   "cell_type": "code",
   "execution_count": 9,
   "metadata": {},
   "outputs": [
    {
     "output_type": "execute_result",
     "data": {
      "text/plain": [
       "            line_start    line_end  char_start   char_end       size  \\\n",
       "token_type                                                             \n",
       "file          0.000000   88.000000    0.000000   0.000000  88.000000   \n",
       "method       99.574468  106.851064    2.893617  35.936170   7.276596   \n",
       "newline      93.786616   94.786616    4.564394  28.164141   1.000000   \n",
       "\n",
       "                width     height  num_tokens  \n",
       "token_type                                    \n",
       "file        88.222222  88.000000  243.666667  \n",
       "method      51.510638   7.276596   22.574468  \n",
       "newline     22.659091   1.000000    2.768939  "
      ],
      "text/html": "<div>\n<style scoped>\n    .dataframe tbody tr th:only-of-type {\n        vertical-align: middle;\n    }\n\n    .dataframe tbody tr th {\n        vertical-align: top;\n    }\n\n    .dataframe thead th {\n        text-align: right;\n    }\n</style>\n<table border=\"1\" class=\"dataframe\">\n  <thead>\n    <tr style=\"text-align: right;\">\n      <th></th>\n      <th>line_start</th>\n      <th>line_end</th>\n      <th>char_start</th>\n      <th>char_end</th>\n      <th>size</th>\n      <th>width</th>\n      <th>height</th>\n      <th>num_tokens</th>\n    </tr>\n    <tr>\n      <th>token_type</th>\n      <th></th>\n      <th></th>\n      <th></th>\n      <th></th>\n      <th></th>\n      <th></th>\n      <th></th>\n      <th></th>\n    </tr>\n  </thead>\n  <tbody>\n    <tr>\n      <th>file</th>\n      <td>0.000000</td>\n      <td>88.000000</td>\n      <td>0.000000</td>\n      <td>0.000000</td>\n      <td>88.000000</td>\n      <td>88.222222</td>\n      <td>88.000000</td>\n      <td>243.666667</td>\n    </tr>\n    <tr>\n      <th>method</th>\n      <td>99.574468</td>\n      <td>106.851064</td>\n      <td>2.893617</td>\n      <td>35.936170</td>\n      <td>7.276596</td>\n      <td>51.510638</td>\n      <td>7.276596</td>\n      <td>22.574468</td>\n    </tr>\n    <tr>\n      <th>newline</th>\n      <td>93.786616</td>\n      <td>94.786616</td>\n      <td>4.564394</td>\n      <td>28.164141</td>\n      <td>1.000000</td>\n      <td>22.659091</td>\n      <td>1.000000</td>\n      <td>2.768939</td>\n    </tr>\n  </tbody>\n</table>\n</div>"
     },
     "metadata": {},
     "execution_count": 9
    }
   ],
   "source": [
    "repo.df.groupby('token_type').mean()"
   ]
  },
  {
   "cell_type": "code",
   "execution_count": 10,
   "metadata": {},
   "outputs": [
    {
     "output_type": "error",
     "ename": "OSError",
     "evalue": "``output`` does not exist",
     "traceback": [
      "\u001b[0;31m---------------------------------------------------------------------------\u001b[0m",
      "\u001b[0;31mOSError\u001b[0m                                   Traceback (most recent call last)",
      "\u001b[0;32m<ipython-input-10-bd4f9b347fec>\u001b[0m in \u001b[0;36m<module>\u001b[0;34m\u001b[0m\n\u001b[0;32m----> 1\u001b[0;31m \u001b[0mrepo\u001b[0m\u001b[0;34m.\u001b[0m\u001b[0mdf\u001b[0m\u001b[0;34m.\u001b[0m\u001b[0mto_hdf\u001b[0m\u001b[0;34m(\u001b[0m\u001b[0;34m'output/clang_index.h5'\u001b[0m\u001b[0;34m,\u001b[0m \u001b[0mkey\u001b[0m\u001b[0;34m=\u001b[0m\u001b[0;34m'df'\u001b[0m\u001b[0;34m,\u001b[0m \u001b[0mmode\u001b[0m\u001b[0;34m=\u001b[0m\u001b[0;34m'w'\u001b[0m\u001b[0;34m)\u001b[0m\u001b[0;34m\u001b[0m\u001b[0;34m\u001b[0m\u001b[0m\n\u001b[0m",
      "\u001b[0;32m~/anaconda3/lib/python3.8/site-packages/pandas/core/generic.py\u001b[0m in \u001b[0;36mto_hdf\u001b[0;34m(self, path_or_buf, key, mode, complevel, complib, append, format, index, min_itemsize, nan_rep, dropna, data_columns, errors, encoding)\u001b[0m\n\u001b[1;32m   2488\u001b[0m         \u001b[0;32mfrom\u001b[0m \u001b[0mpandas\u001b[0m\u001b[0;34m.\u001b[0m\u001b[0mio\u001b[0m \u001b[0;32mimport\u001b[0m \u001b[0mpytables\u001b[0m\u001b[0;34m\u001b[0m\u001b[0;34m\u001b[0m\u001b[0m\n\u001b[1;32m   2489\u001b[0m \u001b[0;34m\u001b[0m\u001b[0m\n\u001b[0;32m-> 2490\u001b[0;31m         pytables.to_hdf(\n\u001b[0m\u001b[1;32m   2491\u001b[0m             \u001b[0mpath_or_buf\u001b[0m\u001b[0;34m,\u001b[0m\u001b[0;34m\u001b[0m\u001b[0;34m\u001b[0m\u001b[0m\n\u001b[1;32m   2492\u001b[0m             \u001b[0mkey\u001b[0m\u001b[0;34m,\u001b[0m\u001b[0;34m\u001b[0m\u001b[0;34m\u001b[0m\u001b[0m\n",
      "\u001b[0;32m~/anaconda3/lib/python3.8/site-packages/pandas/io/pytables.py\u001b[0m in \u001b[0;36mto_hdf\u001b[0;34m(path_or_buf, key, value, mode, complevel, complib, append, format, index, min_itemsize, nan_rep, dropna, data_columns, errors, encoding)\u001b[0m\n\u001b[1;32m    277\u001b[0m     \u001b[0mpath_or_buf\u001b[0m \u001b[0;34m=\u001b[0m \u001b[0mstringify_path\u001b[0m\u001b[0;34m(\u001b[0m\u001b[0mpath_or_buf\u001b[0m\u001b[0;34m)\u001b[0m\u001b[0;34m\u001b[0m\u001b[0;34m\u001b[0m\u001b[0m\n\u001b[1;32m    278\u001b[0m     \u001b[0;32mif\u001b[0m \u001b[0misinstance\u001b[0m\u001b[0;34m(\u001b[0m\u001b[0mpath_or_buf\u001b[0m\u001b[0;34m,\u001b[0m \u001b[0mstr\u001b[0m\u001b[0;34m)\u001b[0m\u001b[0;34m:\u001b[0m\u001b[0;34m\u001b[0m\u001b[0;34m\u001b[0m\u001b[0m\n\u001b[0;32m--> 279\u001b[0;31m         with HDFStore(\n\u001b[0m\u001b[1;32m    280\u001b[0m             \u001b[0mpath_or_buf\u001b[0m\u001b[0;34m,\u001b[0m \u001b[0mmode\u001b[0m\u001b[0;34m=\u001b[0m\u001b[0mmode\u001b[0m\u001b[0;34m,\u001b[0m \u001b[0mcomplevel\u001b[0m\u001b[0;34m=\u001b[0m\u001b[0mcomplevel\u001b[0m\u001b[0;34m,\u001b[0m \u001b[0mcomplib\u001b[0m\u001b[0;34m=\u001b[0m\u001b[0mcomplib\u001b[0m\u001b[0;34m\u001b[0m\u001b[0;34m\u001b[0m\u001b[0m\n\u001b[1;32m    281\u001b[0m         ) as store:\n",
      "\u001b[0;32m~/anaconda3/lib/python3.8/site-packages/pandas/io/pytables.py\u001b[0m in \u001b[0;36m__init__\u001b[0;34m(self, path, mode, complevel, complib, fletcher32, **kwargs)\u001b[0m\n\u001b[1;32m    535\u001b[0m         \u001b[0mself\u001b[0m\u001b[0;34m.\u001b[0m\u001b[0m_fletcher32\u001b[0m \u001b[0;34m=\u001b[0m \u001b[0mfletcher32\u001b[0m\u001b[0;34m\u001b[0m\u001b[0;34m\u001b[0m\u001b[0m\n\u001b[1;32m    536\u001b[0m         \u001b[0mself\u001b[0m\u001b[0;34m.\u001b[0m\u001b[0m_filters\u001b[0m \u001b[0;34m=\u001b[0m \u001b[0;32mNone\u001b[0m\u001b[0;34m\u001b[0m\u001b[0;34m\u001b[0m\u001b[0m\n\u001b[0;32m--> 537\u001b[0;31m         \u001b[0mself\u001b[0m\u001b[0;34m.\u001b[0m\u001b[0mopen\u001b[0m\u001b[0;34m(\u001b[0m\u001b[0mmode\u001b[0m\u001b[0;34m=\u001b[0m\u001b[0mmode\u001b[0m\u001b[0;34m,\u001b[0m \u001b[0;34m**\u001b[0m\u001b[0mkwargs\u001b[0m\u001b[0;34m)\u001b[0m\u001b[0;34m\u001b[0m\u001b[0;34m\u001b[0m\u001b[0m\n\u001b[0m\u001b[1;32m    538\u001b[0m \u001b[0;34m\u001b[0m\u001b[0m\n\u001b[1;32m    539\u001b[0m     \u001b[0;32mdef\u001b[0m \u001b[0m__fspath__\u001b[0m\u001b[0;34m(\u001b[0m\u001b[0mself\u001b[0m\u001b[0;34m)\u001b[0m\u001b[0;34m:\u001b[0m\u001b[0;34m\u001b[0m\u001b[0;34m\u001b[0m\u001b[0m\n",
      "\u001b[0;32m~/anaconda3/lib/python3.8/site-packages/pandas/io/pytables.py\u001b[0m in \u001b[0;36mopen\u001b[0;34m(self, mode, **kwargs)\u001b[0m\n\u001b[1;32m    653\u001b[0m \u001b[0;34m\u001b[0m\u001b[0m\n\u001b[1;32m    654\u001b[0m         \u001b[0;32mtry\u001b[0m\u001b[0;34m:\u001b[0m\u001b[0;34m\u001b[0m\u001b[0;34m\u001b[0m\u001b[0m\n\u001b[0;32m--> 655\u001b[0;31m             \u001b[0mself\u001b[0m\u001b[0;34m.\u001b[0m\u001b[0m_handle\u001b[0m \u001b[0;34m=\u001b[0m \u001b[0mtables\u001b[0m\u001b[0;34m.\u001b[0m\u001b[0mopen_file\u001b[0m\u001b[0;34m(\u001b[0m\u001b[0mself\u001b[0m\u001b[0;34m.\u001b[0m\u001b[0m_path\u001b[0m\u001b[0;34m,\u001b[0m \u001b[0mself\u001b[0m\u001b[0;34m.\u001b[0m\u001b[0m_mode\u001b[0m\u001b[0;34m,\u001b[0m \u001b[0;34m**\u001b[0m\u001b[0mkwargs\u001b[0m\u001b[0;34m)\u001b[0m\u001b[0;34m\u001b[0m\u001b[0;34m\u001b[0m\u001b[0m\n\u001b[0m\u001b[1;32m    656\u001b[0m         \u001b[0;32mexcept\u001b[0m \u001b[0mIOError\u001b[0m \u001b[0;32mas\u001b[0m \u001b[0merr\u001b[0m\u001b[0;34m:\u001b[0m  \u001b[0;31m# pragma: no cover\u001b[0m\u001b[0;34m\u001b[0m\u001b[0;34m\u001b[0m\u001b[0m\n\u001b[1;32m    657\u001b[0m             \u001b[0;32mif\u001b[0m \u001b[0;34m\"can not be written\"\u001b[0m \u001b[0;32min\u001b[0m \u001b[0mstr\u001b[0m\u001b[0;34m(\u001b[0m\u001b[0merr\u001b[0m\u001b[0;34m)\u001b[0m\u001b[0;34m:\u001b[0m\u001b[0;34m\u001b[0m\u001b[0;34m\u001b[0m\u001b[0m\n",
      "\u001b[0;32m~/anaconda3/lib/python3.8/site-packages/tables/file.py\u001b[0m in \u001b[0;36mopen_file\u001b[0;34m(filename, mode, title, root_uep, filters, **kwargs)\u001b[0m\n\u001b[1;32m    313\u001b[0m \u001b[0;34m\u001b[0m\u001b[0m\n\u001b[1;32m    314\u001b[0m     \u001b[0;31m# Finally, create the File instance, and return it\u001b[0m\u001b[0;34m\u001b[0m\u001b[0;34m\u001b[0m\u001b[0;34m\u001b[0m\u001b[0m\n\u001b[0;32m--> 315\u001b[0;31m     \u001b[0;32mreturn\u001b[0m \u001b[0mFile\u001b[0m\u001b[0;34m(\u001b[0m\u001b[0mfilename\u001b[0m\u001b[0;34m,\u001b[0m \u001b[0mmode\u001b[0m\u001b[0;34m,\u001b[0m \u001b[0mtitle\u001b[0m\u001b[0;34m,\u001b[0m \u001b[0mroot_uep\u001b[0m\u001b[0;34m,\u001b[0m \u001b[0mfilters\u001b[0m\u001b[0;34m,\u001b[0m \u001b[0;34m**\u001b[0m\u001b[0mkwargs\u001b[0m\u001b[0;34m)\u001b[0m\u001b[0;34m\u001b[0m\u001b[0;34m\u001b[0m\u001b[0m\n\u001b[0m\u001b[1;32m    316\u001b[0m \u001b[0;34m\u001b[0m\u001b[0m\n\u001b[1;32m    317\u001b[0m \u001b[0;34m\u001b[0m\u001b[0m\n",
      "\u001b[0;32m~/anaconda3/lib/python3.8/site-packages/tables/file.py\u001b[0m in \u001b[0;36m__init__\u001b[0;34m(self, filename, mode, title, root_uep, filters, **kwargs)\u001b[0m\n\u001b[1;32m    776\u001b[0m \u001b[0;34m\u001b[0m\u001b[0m\n\u001b[1;32m    777\u001b[0m         \u001b[0;31m# Now, it is time to initialize the File extension\u001b[0m\u001b[0;34m\u001b[0m\u001b[0;34m\u001b[0m\u001b[0;34m\u001b[0m\u001b[0m\n\u001b[0;32m--> 778\u001b[0;31m         \u001b[0mself\u001b[0m\u001b[0;34m.\u001b[0m\u001b[0m_g_new\u001b[0m\u001b[0;34m(\u001b[0m\u001b[0mfilename\u001b[0m\u001b[0;34m,\u001b[0m \u001b[0mmode\u001b[0m\u001b[0;34m,\u001b[0m \u001b[0;34m**\u001b[0m\u001b[0mparams\u001b[0m\u001b[0;34m)\u001b[0m\u001b[0;34m\u001b[0m\u001b[0;34m\u001b[0m\u001b[0m\n\u001b[0m\u001b[1;32m    779\u001b[0m \u001b[0;34m\u001b[0m\u001b[0m\n\u001b[1;32m    780\u001b[0m         \u001b[0;31m# Check filters and set PyTables format version for new files.\u001b[0m\u001b[0;34m\u001b[0m\u001b[0;34m\u001b[0m\u001b[0;34m\u001b[0m\u001b[0m\n",
      "\u001b[0;32mtables/hdf5extension.pyx\u001b[0m in \u001b[0;36mtables.hdf5extension.File._g_new\u001b[0;34m()\u001b[0m\n",
      "\u001b[0;32m~/anaconda3/lib/python3.8/site-packages/tables/utils.py\u001b[0m in \u001b[0;36mcheck_file_access\u001b[0;34m(filename, mode)\u001b[0m\n\u001b[1;32m    170\u001b[0m                 \u001b[0mparentname\u001b[0m \u001b[0;34m=\u001b[0m \u001b[0;34m'.'\u001b[0m\u001b[0;34m\u001b[0m\u001b[0;34m\u001b[0m\u001b[0m\n\u001b[1;32m    171\u001b[0m             \u001b[0;32mif\u001b[0m \u001b[0;32mnot\u001b[0m \u001b[0mos\u001b[0m\u001b[0;34m.\u001b[0m\u001b[0maccess\u001b[0m\u001b[0;34m(\u001b[0m\u001b[0mparentname\u001b[0m\u001b[0;34m,\u001b[0m \u001b[0mos\u001b[0m\u001b[0;34m.\u001b[0m\u001b[0mF_OK\u001b[0m\u001b[0;34m)\u001b[0m\u001b[0;34m:\u001b[0m\u001b[0;34m\u001b[0m\u001b[0;34m\u001b[0m\u001b[0m\n\u001b[0;32m--> 172\u001b[0;31m                 \u001b[0;32mraise\u001b[0m \u001b[0mIOError\u001b[0m\u001b[0;34m(\u001b[0m\u001b[0;34m\"``%s`` does not exist\"\u001b[0m \u001b[0;34m%\u001b[0m \u001b[0;34m(\u001b[0m\u001b[0mparentname\u001b[0m\u001b[0;34m,\u001b[0m\u001b[0;34m)\u001b[0m\u001b[0;34m)\u001b[0m\u001b[0;34m\u001b[0m\u001b[0;34m\u001b[0m\u001b[0m\n\u001b[0m\u001b[1;32m    173\u001b[0m             \u001b[0;32mif\u001b[0m \u001b[0;32mnot\u001b[0m \u001b[0mos\u001b[0m\u001b[0;34m.\u001b[0m\u001b[0mpath\u001b[0m\u001b[0;34m.\u001b[0m\u001b[0misdir\u001b[0m\u001b[0;34m(\u001b[0m\u001b[0mparentname\u001b[0m\u001b[0;34m)\u001b[0m\u001b[0;34m:\u001b[0m\u001b[0;34m\u001b[0m\u001b[0;34m\u001b[0m\u001b[0m\n\u001b[1;32m    174\u001b[0m                 \u001b[0;32mraise\u001b[0m \u001b[0mIOError\u001b[0m\u001b[0;34m(\u001b[0m\u001b[0;34m\"``%s`` is not a directory\"\u001b[0m \u001b[0;34m%\u001b[0m \u001b[0;34m(\u001b[0m\u001b[0mparentname\u001b[0m\u001b[0;34m,\u001b[0m\u001b[0;34m)\u001b[0m\u001b[0;34m)\u001b[0m\u001b[0;34m\u001b[0m\u001b[0;34m\u001b[0m\u001b[0m\n",
      "\u001b[0;31mOSError\u001b[0m: ``output`` does not exist"
     ]
    }
   ],
   "source": [
    "repo.df.to_hdf('self_index.h5', key='df', mode='w')"
   ]
  }
 ],
 "metadata": {
  "language_info": {
   "name": "python",
   "codemirror_mode": {
    "name": "ipython",
    "version": 3
   },
   "version": "3.8.3-final"
  },
  "orig_nbformat": 2,
  "file_extension": ".py",
  "mimetype": "text/x-python",
  "name": "python",
  "npconvert_exporter": "python",
  "pygments_lexer": "ipython3",
  "version": 3,
  "kernelspec": {
   "name": "Python 3.8.3 64-bit ('base': conda)",
   "display_name": "Python 3.8.3 64-bit ('base': conda)",
   "metadata": {
    "interpreter": {
     "hash": "2037f3a287b3f310f55f8e9cdaf3e3684283ce9d9cb22d557f2e67989dfc2a60"
    }
   }
  }
 },
 "nbformat": 4,
 "nbformat_minor": 2
}