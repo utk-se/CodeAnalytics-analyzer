{
 "cells": [
  {
   "cell_type": "markdown",
   "metadata": {},
   "source": [
    "# CAanalyzer Main\n",
    "Demonstrates usage of the CAanalyzer class. Does frequency and scaled plots"
   ]
  },
  {
   "cell_type": "code",
   "execution_count": 1,
   "metadata": {},
   "outputs": [
    {
     "output_type": "stream",
     "name": "stdout",
     "text": [
      "Processing /home/solsane/research/codeanalytics/CodeAnalytics-analyzer\n",
      "Requirement already satisfied: lizard>=1.17.3 in /home/solsane/anaconda3/lib/python3.8/site-packages (from CAanalyzer==0.0.4) (1.17.7)\n",
      "Requirement already satisfied: ca-distributor@ git+ssh://git@github.com/utk-se/CodeAnalytics-distributor.git#egg=ca-distributor-0.1 from git+ssh://****@github.com/utk-se/CodeAnalytics-distributor.git#egg=ca-distributor-0.1 in /home/solsane/anaconda3/lib/python3.8/site-packages (from CAanalyzer==0.0.4) (0.0.2.dev0)\n",
      "Requirement already satisfied: Flask in /home/solsane/anaconda3/lib/python3.8/site-packages (from ca-distributor@ git+ssh://git@github.com/utk-se/CodeAnalytics-distributor.git#egg=ca-distributor-0.1->CAanalyzer==0.0.4) (1.1.2)\n",
      "Requirement already satisfied: gunicorn in /home/solsane/anaconda3/lib/python3.8/site-packages (from ca-distributor@ git+ssh://git@github.com/utk-se/CodeAnalytics-distributor.git#egg=ca-distributor-0.1->CAanalyzer==0.0.4) (20.0.4)\n",
      "Requirement already satisfied: requests in /home/solsane/anaconda3/lib/python3.8/site-packages (from ca-distributor@ git+ssh://git@github.com/utk-se/CodeAnalytics-distributor.git#egg=ca-distributor-0.1->CAanalyzer==0.0.4) (2.24.0)\n",
      "Requirement already satisfied: coloredlogs in /home/solsane/anaconda3/lib/python3.8/site-packages (from ca-distributor@ git+ssh://git@github.com/utk-se/CodeAnalytics-distributor.git#egg=ca-distributor-0.1->CAanalyzer==0.0.4) (14.0)\n",
      "Requirement already satisfied: pymongo in /home/solsane/anaconda3/lib/python3.8/site-packages (from ca-distributor@ git+ssh://git@github.com/utk-se/CodeAnalytics-distributor.git#egg=ca-distributor-0.1->CAanalyzer==0.0.4) (3.11.0)\n",
      "Requirement already satisfied: pygit2 in /home/solsane/anaconda3/lib/python3.8/site-packages (from ca-distributor@ git+ssh://git@github.com/utk-se/CodeAnalytics-distributor.git#egg=ca-distributor-0.1->CAanalyzer==0.0.4) (1.3.0)\n",
      "Requirement already satisfied: toml in /home/solsane/anaconda3/lib/python3.8/site-packages (from ca-distributor@ git+ssh://git@github.com/utk-se/CodeAnalytics-distributor.git#egg=ca-distributor-0.1->CAanalyzer==0.0.4) (0.10.1)\n",
      "Requirement already satisfied: Flask-HTTPAuth in /home/solsane/anaconda3/lib/python3.8/site-packages (from ca-distributor@ git+ssh://git@github.com/utk-se/CodeAnalytics-distributor.git#egg=ca-distributor-0.1->CAanalyzer==0.0.4) (4.1.0)\n",
      "Requirement already satisfied: itsdangerous>=0.24 in /home/solsane/anaconda3/lib/python3.8/site-packages (from Flask->ca-distributor@ git+ssh://git@github.com/utk-se/CodeAnalytics-distributor.git#egg=ca-distributor-0.1->CAanalyzer==0.0.4) (1.1.0)\n",
      "Requirement already satisfied: Jinja2>=2.10.1 in /home/solsane/anaconda3/lib/python3.8/site-packages (from Flask->ca-distributor@ git+ssh://git@github.com/utk-se/CodeAnalytics-distributor.git#egg=ca-distributor-0.1->CAanalyzer==0.0.4) (2.11.2)\n",
      "Requirement already satisfied: Werkzeug>=0.15 in /home/solsane/anaconda3/lib/python3.8/site-packages (from Flask->ca-distributor@ git+ssh://git@github.com/utk-se/CodeAnalytics-distributor.git#egg=ca-distributor-0.1->CAanalyzer==0.0.4) (1.0.1)\n",
      "Requirement already satisfied: click>=5.1 in /home/solsane/anaconda3/lib/python3.8/site-packages (from Flask->ca-distributor@ git+ssh://git@github.com/utk-se/CodeAnalytics-distributor.git#egg=ca-distributor-0.1->CAanalyzer==0.0.4) (7.1.2)\n",
      "Requirement already satisfied: setuptools>=3.0 in /home/solsane/anaconda3/lib/python3.8/site-packages (from gunicorn->ca-distributor@ git+ssh://git@github.com/utk-se/CodeAnalytics-distributor.git#egg=ca-distributor-0.1->CAanalyzer==0.0.4) (49.2.0.post20200714)\n",
      "Requirement already satisfied: idna<3,>=2.5 in /home/solsane/anaconda3/lib/python3.8/site-packages (from requests->ca-distributor@ git+ssh://git@github.com/utk-se/CodeAnalytics-distributor.git#egg=ca-distributor-0.1->CAanalyzer==0.0.4) (2.10)\n",
      "Requirement already satisfied: certifi>=2017.4.17 in /home/solsane/anaconda3/lib/python3.8/site-packages (from requests->ca-distributor@ git+ssh://git@github.com/utk-se/CodeAnalytics-distributor.git#egg=ca-distributor-0.1->CAanalyzer==0.0.4) (2020.6.20)\n",
      "Requirement already satisfied: chardet<4,>=3.0.2 in /home/solsane/anaconda3/lib/python3.8/site-packages (from requests->ca-distributor@ git+ssh://git@github.com/utk-se/CodeAnalytics-distributor.git#egg=ca-distributor-0.1->CAanalyzer==0.0.4) (3.0.4)\n",
      "Requirement already satisfied: urllib3!=1.25.0,!=1.25.1,<1.26,>=1.21.1 in /home/solsane/anaconda3/lib/python3.8/site-packages (from requests->ca-distributor@ git+ssh://git@github.com/utk-se/CodeAnalytics-distributor.git#egg=ca-distributor-0.1->CAanalyzer==0.0.4) (1.25.9)\n",
      "Requirement already satisfied: humanfriendly>=7.1 in /home/solsane/anaconda3/lib/python3.8/site-packages (from coloredlogs->ca-distributor@ git+ssh://git@github.com/utk-se/CodeAnalytics-distributor.git#egg=ca-distributor-0.1->CAanalyzer==0.0.4) (8.2)\n",
      "Requirement already satisfied: cffi>=1.4.0 in /home/solsane/anaconda3/lib/python3.8/site-packages (from pygit2->ca-distributor@ git+ssh://git@github.com/utk-se/CodeAnalytics-distributor.git#egg=ca-distributor-0.1->CAanalyzer==0.0.4) (1.14.0)\n",
      "Requirement already satisfied: cached-property in /home/solsane/anaconda3/lib/python3.8/site-packages (from pygit2->ca-distributor@ git+ssh://git@github.com/utk-se/CodeAnalytics-distributor.git#egg=ca-distributor-0.1->CAanalyzer==0.0.4) (1.5.2)\n",
      "Requirement already satisfied: MarkupSafe>=0.23 in /home/solsane/anaconda3/lib/python3.8/site-packages (from Jinja2>=2.10.1->Flask->ca-distributor@ git+ssh://git@github.com/utk-se/CodeAnalytics-distributor.git#egg=ca-distributor-0.1->CAanalyzer==0.0.4) (1.1.1)\n",
      "Requirement already satisfied: pycparser in /home/solsane/anaconda3/lib/python3.8/site-packages (from cffi>=1.4.0->pygit2->ca-distributor@ git+ssh://git@github.com/utk-se/CodeAnalytics-distributor.git#egg=ca-distributor-0.1->CAanalyzer==0.0.4) (2.20)\n",
      "Building wheels for collected packages: CAanalyzer\n",
      "  Building wheel for CAanalyzer (setup.py) ... \u001b[?25ldone\n",
      "\u001b[?25h  Created wheel for CAanalyzer: filename=CAanalyzer-0.0.4-py3-none-any.whl size=10197 sha256=63fe6702b87ff9459e152db52b80cfa7d5e32fc8d169d9d083ca750bd4a6ca80\n",
      "  Stored in directory: /home/solsane/.cache/pip/wheels/f9/2b/db/ccb3298d1ed3013586e60be3ec5ad69bc23682995067d0dac2\n",
      "Successfully built CAanalyzer\n",
      "Installing collected packages: CAanalyzer\n",
      "  Attempting uninstall: CAanalyzer\n",
      "    Found existing installation: CAanalyzer 0.0.4\n",
      "    Uninstalling CAanalyzer-0.0.4:\n",
      "      Successfully uninstalled CAanalyzer-0.0.4\n",
      "Successfully installed CAanalyzer-0.0.4\n"
     ]
    }
   ],
   "source": [
    "# install the package\n",
    "!pip install ../"
   ]
  },
  {
   "cell_type": "code",
   "execution_count": 2,
   "metadata": {},
   "outputs": [
    {
     "output_type": "stream",
     "name": "stderr",
     "text": [
      "UsageError: Line magic function `%` not found.\n"
     ]
    }
   ],
   "source": [
    "% matplotlib inline"
   ]
  },
  {
   "cell_type": "code",
   "execution_count": 3,
   "metadata": {},
   "outputs": [],
   "source": [
    "import numpy as np\n",
    "import pandas as pd\n",
    "from caanalyzer import CodeRepo\n",
    "from caanalyzer.tokens import MethodTokenizer, FileTokenizer, LineTokenizer, Tokenizer\n",
    "from caanalyzer.metrics import width, height, num_tokens\n",
    "import matplotlib.pyplot as plt\n",
    "from matplotlib.image import NonUniformImage\n",
    "import matplotlib.colors as colors\n"
   ]
  },
  {
   "cell_type": "code",
   "execution_count": 4,
   "metadata": {},
   "outputs": [],
   "source": [
    "repo_path = '/home/solsane/research/codeanalytics/test_repos/clang'"
   ]
  },
  {
   "cell_type": "code",
   "execution_count": 5,
   "metadata": {},
   "outputs": [
    {
     "output_type": "stream",
     "name": "stderr",
     "text": [
      "[2020-11-04 18:09:08] [    INFO] [analyzer __init__] languages found: {'.js', '.py', '.h', '.cpp'}\n",
      "[2020-11-04 18:09:08] [    INFO] [analyzer __init__] number of valid files found: 8541\n"
     ]
    }
   ],
   "source": [
    "repo = CodeRepo(repo_path)"
   ]
  },
  {
   "cell_type": "code",
   "execution_count": 6,
   "metadata": {
    "tags": []
   },
   "outputs": [
    {
     "output_type": "stream",
     "name": "stderr",
     "text": [
      "[2020-11-04 18:09:08] [    INFO] [analyzer index] Indexing this repository...\n",
      "100%|██████████| 8541/8541 [01:28<00:00, 96.76it/s]\n",
      "[2020-11-04 18:10:36] [    INFO] [analyzer index] Creating dataframe...\n",
      "[2020-11-04 18:12:31] [    INFO] [analyzer index] Repository /home/solsane/research/codeanalytics/test_repos/clang indexed for analysis\n"
     ]
    }
   ],
   "source": [
    "repo.index([FileTokenizer, LineTokenizer, MethodTokenizer], {'size' : len, 'width': width, 'height' : height, 'num_tokens': num_tokens})"
   ]
  },
  {
   "cell_type": "code",
   "execution_count": null,
   "metadata": {},
   "outputs": [],
   "source": [
    "# list file types"
   ]
  },
  {
   "cell_type": "code",
   "execution_count": 7,
   "metadata": {},
   "outputs": [
    {
     "output_type": "execute_result",
     "data": {
      "text/plain": [
       "line_start    1659782\n",
       "line_end      1659782\n",
       "char_start    1659782\n",
       "char_end      1659782\n",
       "size          1659782\n",
       "width         1659782\n",
       "height        1659782\n",
       "num_tokens    1659782\n",
       "dtype: int64"
      ]
     },
     "metadata": {},
     "execution_count": 7
    }
   ],
   "source": [
    "# get num cpp files\n",
    "repo.df.xs(('.cpp'), level=('lang')).count()"
   ]
  },
  {
   "cell_type": "code",
   "execution_count": 8,
   "metadata": {},
   "outputs": [
    {
     "output_type": "execute_result",
     "data": {
      "text/plain": [
       "            line_start    line_end  char_start   char_end        size  \\\n",
       "token_type                                                              \n",
       "file          0.000000  241.775281    0.000000   0.000000  241.775281   \n",
       "method      579.781033  591.046261    3.191981  44.028527   11.265227   \n",
       "newline     580.856632  581.856632    5.615810  34.570174    1.000000   \n",
       "\n",
       "                width      height  num_tokens  \n",
       "token_type                                     \n",
       "file        89.044944  241.775281  746.674157  \n",
       "method      64.243639   11.265227   37.814958  \n",
       "newline     27.991635    1.000000    3.088298  "
      ],
      "text/html": "<div>\n<style scoped>\n    .dataframe tbody tr th:only-of-type {\n        vertical-align: middle;\n    }\n\n    .dataframe tbody tr th {\n        vertical-align: top;\n    }\n\n    .dataframe thead th {\n        text-align: right;\n    }\n</style>\n<table border=\"1\" class=\"dataframe\">\n  <thead>\n    <tr style=\"text-align: right;\">\n      <th></th>\n      <th>line_start</th>\n      <th>line_end</th>\n      <th>char_start</th>\n      <th>char_end</th>\n      <th>size</th>\n      <th>width</th>\n      <th>height</th>\n      <th>num_tokens</th>\n    </tr>\n    <tr>\n      <th>token_type</th>\n      <th></th>\n      <th></th>\n      <th></th>\n      <th></th>\n      <th></th>\n      <th></th>\n      <th></th>\n      <th></th>\n    </tr>\n  </thead>\n  <tbody>\n    <tr>\n      <th>file</th>\n      <td>0.000000</td>\n      <td>241.775281</td>\n      <td>0.000000</td>\n      <td>0.000000</td>\n      <td>241.775281</td>\n      <td>89.044944</td>\n      <td>241.775281</td>\n      <td>746.674157</td>\n    </tr>\n    <tr>\n      <th>method</th>\n      <td>579.781033</td>\n      <td>591.046261</td>\n      <td>3.191981</td>\n      <td>44.028527</td>\n      <td>11.265227</td>\n      <td>64.243639</td>\n      <td>11.265227</td>\n      <td>37.814958</td>\n    </tr>\n    <tr>\n      <th>newline</th>\n      <td>580.856632</td>\n      <td>581.856632</td>\n      <td>5.615810</td>\n      <td>34.570174</td>\n      <td>1.000000</td>\n      <td>27.991635</td>\n      <td>1.000000</td>\n      <td>3.088298</td>\n    </tr>\n  </tbody>\n</table>\n</div>"
     },
     "metadata": {},
     "execution_count": 8
    }
   ],
   "source": [
    "# get average python file info\n",
    "repo.df.xs(('.py'), level=('lang')).groupby('token_type').mean()"
   ]
  },
  {
   "cell_type": "code",
   "execution_count": 9,
   "metadata": {},
   "outputs": [
    {
     "output_type": "execute_result",
     "data": {
      "text/plain": [
       "       line_start     line_end  char_start   char_end      size      width  \\\n",
       "lang                                                                         \n",
       ".cpp  1840.499109  1843.060544    3.238720  36.937496  2.561435  35.342845   \n",
       ".h    2198.639809  2200.788607    3.337758  34.904461  2.148797  33.940242   \n",
       ".js    211.376712   214.168950    4.492390  32.401065  2.792237  30.216895   \n",
       ".py    578.538640   581.055536    5.456732  34.971446  2.516897  30.281741   \n",
       "\n",
       "        height  num_tokens  \n",
       "lang                        \n",
       ".cpp  2.561435   10.200755  \n",
       ".h    2.148797    8.137323  \n",
       ".js   2.792237   10.678843  \n",
       ".py   2.516897    7.944202  "
      ],
      "text/html": "<div>\n<style scoped>\n    .dataframe tbody tr th:only-of-type {\n        vertical-align: middle;\n    }\n\n    .dataframe tbody tr th {\n        vertical-align: top;\n    }\n\n    .dataframe thead th {\n        text-align: right;\n    }\n</style>\n<table border=\"1\" class=\"dataframe\">\n  <thead>\n    <tr style=\"text-align: right;\">\n      <th></th>\n      <th>line_start</th>\n      <th>line_end</th>\n      <th>char_start</th>\n      <th>char_end</th>\n      <th>size</th>\n      <th>width</th>\n      <th>height</th>\n      <th>num_tokens</th>\n    </tr>\n    <tr>\n      <th>lang</th>\n      <th></th>\n      <th></th>\n      <th></th>\n      <th></th>\n      <th></th>\n      <th></th>\n      <th></th>\n      <th></th>\n    </tr>\n  </thead>\n  <tbody>\n    <tr>\n      <th>.cpp</th>\n      <td>1840.499109</td>\n      <td>1843.060544</td>\n      <td>3.238720</td>\n      <td>36.937496</td>\n      <td>2.561435</td>\n      <td>35.342845</td>\n      <td>2.561435</td>\n      <td>10.200755</td>\n    </tr>\n    <tr>\n      <th>.h</th>\n      <td>2198.639809</td>\n      <td>2200.788607</td>\n      <td>3.337758</td>\n      <td>34.904461</td>\n      <td>2.148797</td>\n      <td>33.940242</td>\n      <td>2.148797</td>\n      <td>8.137323</td>\n    </tr>\n    <tr>\n      <th>.js</th>\n      <td>211.376712</td>\n      <td>214.168950</td>\n      <td>4.492390</td>\n      <td>32.401065</td>\n      <td>2.792237</td>\n      <td>30.216895</td>\n      <td>2.792237</td>\n      <td>10.678843</td>\n    </tr>\n    <tr>\n      <th>.py</th>\n      <td>578.538640</td>\n      <td>581.055536</td>\n      <td>5.456732</td>\n      <td>34.971446</td>\n      <td>2.516897</td>\n      <td>30.281741</td>\n      <td>2.516897</td>\n      <td>7.944202</td>\n    </tr>\n  </tbody>\n</table>\n</div>"
     },
     "metadata": {},
     "execution_count": 9
    }
   ],
   "source": [
    "# compare data between languages\n",
    "repo.df.groupby('lang').mean()"
   ]
  },
  {
   "cell_type": "code",
   "execution_count": 10,
   "metadata": {},
   "outputs": [
    {
     "output_type": "error",
     "ename": "FileNotFoundError",
     "evalue": "[Errno 2] No such file or directory: '/home/solsane/anaconda3/lib/python3.8/site-packages/CA_Visual_Fingerprinter-0.0.9_vf-py3.8.egg'",
     "traceback": [
      "\u001b[0;31m---------------------------------------------------------------------------\u001b[0m",
      "\u001b[0;31mFileNotFoundError\u001b[0m                         Traceback (most recent call last)",
      "\u001b[0;32m<ipython-input-10-2536d6d87ef4>\u001b[0m in \u001b[0;36m<module>\u001b[0;34m\u001b[0m\n\u001b[0;32m----> 1\u001b[0;31m \u001b[0mrepo\u001b[0m\u001b[0;34m.\u001b[0m\u001b[0mdf\u001b[0m\u001b[0;34m.\u001b[0m\u001b[0mto_hdf\u001b[0m\u001b[0;34m(\u001b[0m\u001b[0;34m'self_index.h5'\u001b[0m\u001b[0;34m,\u001b[0m \u001b[0mkey\u001b[0m\u001b[0;34m=\u001b[0m\u001b[0;34m'df'\u001b[0m\u001b[0;34m,\u001b[0m \u001b[0mmode\u001b[0m\u001b[0;34m=\u001b[0m\u001b[0;34m'w'\u001b[0m\u001b[0;34m)\u001b[0m\u001b[0;34m\u001b[0m\u001b[0;34m\u001b[0m\u001b[0m\n\u001b[0m",
      "\u001b[0;32m~/anaconda3/lib/python3.8/site-packages/pandas/core/generic.py\u001b[0m in \u001b[0;36mto_hdf\u001b[0;34m(self, path_or_buf, key, mode, complevel, complib, append, format, index, min_itemsize, nan_rep, dropna, data_columns, errors, encoding)\u001b[0m\n\u001b[1;32m   2488\u001b[0m         \u001b[0;32mfrom\u001b[0m \u001b[0mpandas\u001b[0m\u001b[0;34m.\u001b[0m\u001b[0mio\u001b[0m \u001b[0;32mimport\u001b[0m \u001b[0mpytables\u001b[0m\u001b[0;34m\u001b[0m\u001b[0;34m\u001b[0m\u001b[0m\n\u001b[1;32m   2489\u001b[0m \u001b[0;34m\u001b[0m\u001b[0m\n\u001b[0;32m-> 2490\u001b[0;31m         pytables.to_hdf(\n\u001b[0m\u001b[1;32m   2491\u001b[0m             \u001b[0mpath_or_buf\u001b[0m\u001b[0;34m,\u001b[0m\u001b[0;34m\u001b[0m\u001b[0;34m\u001b[0m\u001b[0m\n\u001b[1;32m   2492\u001b[0m             \u001b[0mkey\u001b[0m\u001b[0;34m,\u001b[0m\u001b[0;34m\u001b[0m\u001b[0;34m\u001b[0m\u001b[0m\n",
      "\u001b[0;32m~/anaconda3/lib/python3.8/site-packages/pandas/io/pytables.py\u001b[0m in \u001b[0;36mto_hdf\u001b[0;34m(path_or_buf, key, value, mode, complevel, complib, append, format, index, min_itemsize, nan_rep, dropna, data_columns, errors, encoding)\u001b[0m\n\u001b[1;32m    277\u001b[0m     \u001b[0mpath_or_buf\u001b[0m \u001b[0;34m=\u001b[0m \u001b[0mstringify_path\u001b[0m\u001b[0;34m(\u001b[0m\u001b[0mpath_or_buf\u001b[0m\u001b[0;34m)\u001b[0m\u001b[0;34m\u001b[0m\u001b[0;34m\u001b[0m\u001b[0m\n\u001b[1;32m    278\u001b[0m     \u001b[0;32mif\u001b[0m \u001b[0misinstance\u001b[0m\u001b[0;34m(\u001b[0m\u001b[0mpath_or_buf\u001b[0m\u001b[0;34m,\u001b[0m \u001b[0mstr\u001b[0m\u001b[0;34m)\u001b[0m\u001b[0;34m:\u001b[0m\u001b[0;34m\u001b[0m\u001b[0;34m\u001b[0m\u001b[0m\n\u001b[0;32m--> 279\u001b[0;31m         with HDFStore(\n\u001b[0m\u001b[1;32m    280\u001b[0m             \u001b[0mpath_or_buf\u001b[0m\u001b[0;34m,\u001b[0m \u001b[0mmode\u001b[0m\u001b[0;34m=\u001b[0m\u001b[0mmode\u001b[0m\u001b[0;34m,\u001b[0m \u001b[0mcomplevel\u001b[0m\u001b[0;34m=\u001b[0m\u001b[0mcomplevel\u001b[0m\u001b[0;34m,\u001b[0m \u001b[0mcomplib\u001b[0m\u001b[0;34m=\u001b[0m\u001b[0mcomplib\u001b[0m\u001b[0;34m\u001b[0m\u001b[0;34m\u001b[0m\u001b[0m\n\u001b[1;32m    281\u001b[0m         ) as store:\n",
      "\u001b[0;32m~/anaconda3/lib/python3.8/site-packages/pandas/io/pytables.py\u001b[0m in \u001b[0;36m__init__\u001b[0;34m(self, path, mode, complevel, complib, fletcher32, **kwargs)\u001b[0m\n\u001b[1;32m    516\u001b[0m             \u001b[0;32mraise\u001b[0m \u001b[0mValueError\u001b[0m\u001b[0;34m(\u001b[0m\u001b[0;34m\"format is not a defined argument for HDFStore\"\u001b[0m\u001b[0;34m)\u001b[0m\u001b[0;34m\u001b[0m\u001b[0;34m\u001b[0m\u001b[0m\n\u001b[1;32m    517\u001b[0m \u001b[0;34m\u001b[0m\u001b[0m\n\u001b[0;32m--> 518\u001b[0;31m         \u001b[0mtables\u001b[0m \u001b[0;34m=\u001b[0m \u001b[0mimport_optional_dependency\u001b[0m\u001b[0;34m(\u001b[0m\u001b[0;34m\"tables\"\u001b[0m\u001b[0;34m)\u001b[0m\u001b[0;34m\u001b[0m\u001b[0;34m\u001b[0m\u001b[0m\n\u001b[0m\u001b[1;32m    519\u001b[0m \u001b[0;34m\u001b[0m\u001b[0m\n\u001b[1;32m    520\u001b[0m         \u001b[0;32mif\u001b[0m \u001b[0mcomplib\u001b[0m \u001b[0;32mis\u001b[0m \u001b[0;32mnot\u001b[0m \u001b[0;32mNone\u001b[0m \u001b[0;32mand\u001b[0m \u001b[0mcomplib\u001b[0m \u001b[0;32mnot\u001b[0m \u001b[0;32min\u001b[0m \u001b[0mtables\u001b[0m\u001b[0;34m.\u001b[0m\u001b[0mfilters\u001b[0m\u001b[0;34m.\u001b[0m\u001b[0mall_complibs\u001b[0m\u001b[0;34m:\u001b[0m\u001b[0;34m\u001b[0m\u001b[0;34m\u001b[0m\u001b[0m\n",
      "\u001b[0;32m~/anaconda3/lib/python3.8/site-packages/pandas/compat/_optional.py\u001b[0m in \u001b[0;36mimport_optional_dependency\u001b[0;34m(name, extra, raise_on_missing, on_version)\u001b[0m\n\u001b[1;32m     87\u001b[0m     )\n\u001b[1;32m     88\u001b[0m     \u001b[0;32mtry\u001b[0m\u001b[0;34m:\u001b[0m\u001b[0;34m\u001b[0m\u001b[0;34m\u001b[0m\u001b[0m\n\u001b[0;32m---> 89\u001b[0;31m         \u001b[0mmodule\u001b[0m \u001b[0;34m=\u001b[0m \u001b[0mimportlib\u001b[0m\u001b[0;34m.\u001b[0m\u001b[0mimport_module\u001b[0m\u001b[0;34m(\u001b[0m\u001b[0mname\u001b[0m\u001b[0;34m)\u001b[0m\u001b[0;34m\u001b[0m\u001b[0;34m\u001b[0m\u001b[0m\n\u001b[0m\u001b[1;32m     90\u001b[0m     \u001b[0;32mexcept\u001b[0m \u001b[0mImportError\u001b[0m\u001b[0;34m:\u001b[0m\u001b[0;34m\u001b[0m\u001b[0;34m\u001b[0m\u001b[0m\n\u001b[1;32m     91\u001b[0m         \u001b[0;32mif\u001b[0m \u001b[0mraise_on_missing\u001b[0m\u001b[0;34m:\u001b[0m\u001b[0;34m\u001b[0m\u001b[0;34m\u001b[0m\u001b[0m\n",
      "\u001b[0;32m~/anaconda3/lib/python3.8/importlib/__init__.py\u001b[0m in \u001b[0;36mimport_module\u001b[0;34m(name, package)\u001b[0m\n\u001b[1;32m    125\u001b[0m                 \u001b[0;32mbreak\u001b[0m\u001b[0;34m\u001b[0m\u001b[0;34m\u001b[0m\u001b[0m\n\u001b[1;32m    126\u001b[0m             \u001b[0mlevel\u001b[0m \u001b[0;34m+=\u001b[0m \u001b[0;36m1\u001b[0m\u001b[0;34m\u001b[0m\u001b[0;34m\u001b[0m\u001b[0m\n\u001b[0;32m--> 127\u001b[0;31m     \u001b[0;32mreturn\u001b[0m \u001b[0m_bootstrap\u001b[0m\u001b[0;34m.\u001b[0m\u001b[0m_gcd_import\u001b[0m\u001b[0;34m(\u001b[0m\u001b[0mname\u001b[0m\u001b[0;34m[\u001b[0m\u001b[0mlevel\u001b[0m\u001b[0;34m:\u001b[0m\u001b[0;34m]\u001b[0m\u001b[0;34m,\u001b[0m \u001b[0mpackage\u001b[0m\u001b[0;34m,\u001b[0m \u001b[0mlevel\u001b[0m\u001b[0;34m)\u001b[0m\u001b[0;34m\u001b[0m\u001b[0;34m\u001b[0m\u001b[0m\n\u001b[0m\u001b[1;32m    128\u001b[0m \u001b[0;34m\u001b[0m\u001b[0m\n\u001b[1;32m    129\u001b[0m \u001b[0;34m\u001b[0m\u001b[0m\n",
      "\u001b[0;32m~/anaconda3/lib/python3.8/importlib/_bootstrap.py\u001b[0m in \u001b[0;36m_gcd_import\u001b[0;34m(name, package, level)\u001b[0m\n",
      "\u001b[0;32m~/anaconda3/lib/python3.8/importlib/_bootstrap.py\u001b[0m in \u001b[0;36m_find_and_load\u001b[0;34m(name, import_)\u001b[0m\n",
      "\u001b[0;32m~/anaconda3/lib/python3.8/importlib/_bootstrap.py\u001b[0m in \u001b[0;36m_find_and_load_unlocked\u001b[0;34m(name, import_)\u001b[0m\n",
      "\u001b[0;32m~/anaconda3/lib/python3.8/importlib/_bootstrap.py\u001b[0m in \u001b[0;36m_load_unlocked\u001b[0;34m(spec)\u001b[0m\n",
      "\u001b[0;32m~/anaconda3/lib/python3.8/importlib/_bootstrap_external.py\u001b[0m in \u001b[0;36mexec_module\u001b[0;34m(self, module)\u001b[0m\n",
      "\u001b[0;32m~/anaconda3/lib/python3.8/importlib/_bootstrap.py\u001b[0m in \u001b[0;36m_call_with_frames_removed\u001b[0;34m(f, *args, **kwds)\u001b[0m\n",
      "\u001b[0;32m~/anaconda3/lib/python3.8/site-packages/tables/__init__.py\u001b[0m in \u001b[0;36m<module>\u001b[0;34m\u001b[0m\n\u001b[1;32m    146\u001b[0m \u001b[0;32mfrom\u001b[0m \u001b[0;34m.\u001b[0m\u001b[0munimplemented\u001b[0m \u001b[0;32mimport\u001b[0m \u001b[0mUnImplemented\u001b[0m\u001b[0;34m,\u001b[0m \u001b[0mUnknown\u001b[0m\u001b[0;34m\u001b[0m\u001b[0;34m\u001b[0m\u001b[0m\n\u001b[1;32m    147\u001b[0m \u001b[0;32mfrom\u001b[0m \u001b[0;34m.\u001b[0m\u001b[0mexpression\u001b[0m \u001b[0;32mimport\u001b[0m \u001b[0mExpr\u001b[0m\u001b[0;34m\u001b[0m\u001b[0;34m\u001b[0m\u001b[0m\n\u001b[0;32m--> 148\u001b[0;31m \u001b[0;32mfrom\u001b[0m \u001b[0;34m.\u001b[0m\u001b[0mtests\u001b[0m \u001b[0;32mimport\u001b[0m \u001b[0mprint_versions\u001b[0m\u001b[0;34m,\u001b[0m \u001b[0mtest\u001b[0m\u001b[0;34m\u001b[0m\u001b[0;34m\u001b[0m\u001b[0m\n\u001b[0m\u001b[1;32m    149\u001b[0m \u001b[0;34m\u001b[0m\u001b[0m\n\u001b[1;32m    150\u001b[0m \u001b[0;34m\u001b[0m\u001b[0m\n",
      "\u001b[0;32m~/anaconda3/lib/python3.8/site-packages/tables/tests/__init__.py\u001b[0m in \u001b[0;36m<module>\u001b[0;34m\u001b[0m\n\u001b[1;32m     19\u001b[0m \"\"\"\n\u001b[1;32m     20\u001b[0m \u001b[0;34m\u001b[0m\u001b[0m\n\u001b[0;32m---> 21\u001b[0;31m \u001b[0;32mfrom\u001b[0m \u001b[0mtables\u001b[0m\u001b[0;34m.\u001b[0m\u001b[0mtests\u001b[0m\u001b[0;34m.\u001b[0m\u001b[0mcommon\u001b[0m \u001b[0;32mimport\u001b[0m \u001b[0mprint_versions\u001b[0m\u001b[0;34m\u001b[0m\u001b[0;34m\u001b[0m\u001b[0m\n\u001b[0m\u001b[1;32m     22\u001b[0m \u001b[0;32mfrom\u001b[0m \u001b[0mtables\u001b[0m\u001b[0;34m.\u001b[0m\u001b[0mtests\u001b[0m\u001b[0;34m.\u001b[0m\u001b[0mtest_suite\u001b[0m \u001b[0;32mimport\u001b[0m \u001b[0mtest\u001b[0m\u001b[0;34m,\u001b[0m \u001b[0msuite\u001b[0m\u001b[0;34m\u001b[0m\u001b[0;34m\u001b[0m\u001b[0m\n",
      "\u001b[0;32m~/anaconda3/lib/python3.8/site-packages/tables/tests/common.py\u001b[0m in \u001b[0;36m<module>\u001b[0;34m\u001b[0m\n\u001b[1;32m     23\u001b[0m \u001b[0;32mfrom\u001b[0m \u001b[0mdistutils\u001b[0m\u001b[0;34m.\u001b[0m\u001b[0mversion\u001b[0m \u001b[0;32mimport\u001b[0m \u001b[0mLooseVersion\u001b[0m\u001b[0;34m\u001b[0m\u001b[0;34m\u001b[0m\u001b[0m\n\u001b[1;32m     24\u001b[0m \u001b[0;34m\u001b[0m\u001b[0m\n\u001b[0;32m---> 25\u001b[0;31m \u001b[0;32mfrom\u001b[0m \u001b[0mpkg_resources\u001b[0m \u001b[0;32mimport\u001b[0m \u001b[0mresource_filename\u001b[0m\u001b[0;34m\u001b[0m\u001b[0;34m\u001b[0m\u001b[0m\n\u001b[0m\u001b[1;32m     26\u001b[0m \u001b[0;34m\u001b[0m\u001b[0m\n\u001b[1;32m     27\u001b[0m \u001b[0;32mimport\u001b[0m \u001b[0munittest\u001b[0m\u001b[0;34m\u001b[0m\u001b[0;34m\u001b[0m\u001b[0m\n",
      "\u001b[0;32m~/anaconda3/lib/python3.8/site-packages/pkg_resources/__init__.py\u001b[0m in \u001b[0;36m<module>\u001b[0;34m\u001b[0m\n\u001b[1;32m   3255\u001b[0m \u001b[0;34m\u001b[0m\u001b[0m\n\u001b[1;32m   3256\u001b[0m \u001b[0;34m@\u001b[0m\u001b[0m_call_aside\u001b[0m\u001b[0;34m\u001b[0m\u001b[0;34m\u001b[0m\u001b[0m\n\u001b[0;32m-> 3257\u001b[0;31m \u001b[0;32mdef\u001b[0m \u001b[0m_initialize_master_working_set\u001b[0m\u001b[0;34m(\u001b[0m\u001b[0;34m)\u001b[0m\u001b[0;34m:\u001b[0m\u001b[0;34m\u001b[0m\u001b[0;34m\u001b[0m\u001b[0m\n\u001b[0m\u001b[1;32m   3258\u001b[0m     \"\"\"\n\u001b[1;32m   3259\u001b[0m     \u001b[0mPrepare\u001b[0m \u001b[0mthe\u001b[0m \u001b[0mmaster\u001b[0m \u001b[0mworking\u001b[0m \u001b[0mset\u001b[0m \u001b[0;32mand\u001b[0m \u001b[0mmake\u001b[0m \u001b[0mthe\u001b[0m\u001b[0;31m \u001b[0m\u001b[0;31m`\u001b[0m\u001b[0;31m`\u001b[0m\u001b[0mrequire\u001b[0m\u001b[0;34m(\u001b[0m\u001b[0;34m)\u001b[0m\u001b[0;31m`\u001b[0m\u001b[0;31m`\u001b[0m\u001b[0;34m\u001b[0m\u001b[0;34m\u001b[0m\u001b[0m\n",
      "\u001b[0;32m~/anaconda3/lib/python3.8/site-packages/pkg_resources/__init__.py\u001b[0m in \u001b[0;36m_call_aside\u001b[0;34m(f, *args, **kwargs)\u001b[0m\n\u001b[1;32m   3238\u001b[0m \u001b[0;31m# from jaraco.functools 1.3\u001b[0m\u001b[0;34m\u001b[0m\u001b[0;34m\u001b[0m\u001b[0;34m\u001b[0m\u001b[0m\n\u001b[1;32m   3239\u001b[0m \u001b[0;32mdef\u001b[0m \u001b[0m_call_aside\u001b[0m\u001b[0;34m(\u001b[0m\u001b[0mf\u001b[0m\u001b[0;34m,\u001b[0m \u001b[0;34m*\u001b[0m\u001b[0margs\u001b[0m\u001b[0;34m,\u001b[0m \u001b[0;34m**\u001b[0m\u001b[0mkwargs\u001b[0m\u001b[0;34m)\u001b[0m\u001b[0;34m:\u001b[0m\u001b[0;34m\u001b[0m\u001b[0;34m\u001b[0m\u001b[0m\n\u001b[0;32m-> 3240\u001b[0;31m     \u001b[0mf\u001b[0m\u001b[0;34m(\u001b[0m\u001b[0;34m*\u001b[0m\u001b[0margs\u001b[0m\u001b[0;34m,\u001b[0m \u001b[0;34m**\u001b[0m\u001b[0mkwargs\u001b[0m\u001b[0;34m)\u001b[0m\u001b[0;34m\u001b[0m\u001b[0;34m\u001b[0m\u001b[0m\n\u001b[0m\u001b[1;32m   3241\u001b[0m     \u001b[0;32mreturn\u001b[0m \u001b[0mf\u001b[0m\u001b[0;34m\u001b[0m\u001b[0;34m\u001b[0m\u001b[0m\n\u001b[1;32m   3242\u001b[0m \u001b[0;34m\u001b[0m\u001b[0m\n",
      "\u001b[0;32m~/anaconda3/lib/python3.8/site-packages/pkg_resources/__init__.py\u001b[0m in \u001b[0;36m_initialize_master_working_set\u001b[0;34m()\u001b[0m\n\u001b[1;32m   3267\u001b[0m     \u001b[0mat\u001b[0m \u001b[0mtheir\u001b[0m \u001b[0mown\u001b[0m \u001b[0mrisk\u001b[0m\u001b[0;34m.\u001b[0m\u001b[0;34m\u001b[0m\u001b[0;34m\u001b[0m\u001b[0m\n\u001b[1;32m   3268\u001b[0m     \"\"\"\n\u001b[0;32m-> 3269\u001b[0;31m     \u001b[0mworking_set\u001b[0m \u001b[0;34m=\u001b[0m \u001b[0mWorkingSet\u001b[0m\u001b[0;34m.\u001b[0m\u001b[0m_build_master\u001b[0m\u001b[0;34m(\u001b[0m\u001b[0;34m)\u001b[0m\u001b[0;34m\u001b[0m\u001b[0;34m\u001b[0m\u001b[0m\n\u001b[0m\u001b[1;32m   3270\u001b[0m     \u001b[0m_declare_state\u001b[0m\u001b[0;34m(\u001b[0m\u001b[0;34m'object'\u001b[0m\u001b[0;34m,\u001b[0m \u001b[0mworking_set\u001b[0m\u001b[0;34m=\u001b[0m\u001b[0mworking_set\u001b[0m\u001b[0;34m)\u001b[0m\u001b[0;34m\u001b[0m\u001b[0;34m\u001b[0m\u001b[0m\n\u001b[1;32m   3271\u001b[0m \u001b[0;34m\u001b[0m\u001b[0m\n",
      "\u001b[0;32m~/anaconda3/lib/python3.8/site-packages/pkg_resources/__init__.py\u001b[0m in \u001b[0;36m_build_master\u001b[0;34m(cls)\u001b[0m\n\u001b[1;32m    571\u001b[0m         \u001b[0mPrepare\u001b[0m \u001b[0mthe\u001b[0m \u001b[0mmaster\u001b[0m \u001b[0mworking\u001b[0m \u001b[0mset\u001b[0m\u001b[0;34m.\u001b[0m\u001b[0;34m\u001b[0m\u001b[0;34m\u001b[0m\u001b[0m\n\u001b[1;32m    572\u001b[0m         \"\"\"\n\u001b[0;32m--> 573\u001b[0;31m         \u001b[0mws\u001b[0m \u001b[0;34m=\u001b[0m \u001b[0mcls\u001b[0m\u001b[0;34m(\u001b[0m\u001b[0;34m)\u001b[0m\u001b[0;34m\u001b[0m\u001b[0;34m\u001b[0m\u001b[0m\n\u001b[0m\u001b[1;32m    574\u001b[0m         \u001b[0;32mtry\u001b[0m\u001b[0;34m:\u001b[0m\u001b[0;34m\u001b[0m\u001b[0;34m\u001b[0m\u001b[0m\n\u001b[1;32m    575\u001b[0m             \u001b[0;32mfrom\u001b[0m \u001b[0m__main__\u001b[0m \u001b[0;32mimport\u001b[0m \u001b[0m__requires__\u001b[0m\u001b[0;34m\u001b[0m\u001b[0;34m\u001b[0m\u001b[0m\n",
      "\u001b[0;32m~/anaconda3/lib/python3.8/site-packages/pkg_resources/__init__.py\u001b[0m in \u001b[0;36m__init__\u001b[0;34m(self, entries)\u001b[0m\n\u001b[1;32m    564\u001b[0m \u001b[0;34m\u001b[0m\u001b[0m\n\u001b[1;32m    565\u001b[0m         \u001b[0;32mfor\u001b[0m \u001b[0mentry\u001b[0m \u001b[0;32min\u001b[0m \u001b[0mentries\u001b[0m\u001b[0;34m:\u001b[0m\u001b[0;34m\u001b[0m\u001b[0;34m\u001b[0m\u001b[0m\n\u001b[0;32m--> 566\u001b[0;31m             \u001b[0mself\u001b[0m\u001b[0;34m.\u001b[0m\u001b[0madd_entry\u001b[0m\u001b[0;34m(\u001b[0m\u001b[0mentry\u001b[0m\u001b[0;34m)\u001b[0m\u001b[0;34m\u001b[0m\u001b[0;34m\u001b[0m\u001b[0m\n\u001b[0m\u001b[1;32m    567\u001b[0m \u001b[0;34m\u001b[0m\u001b[0m\n\u001b[1;32m    568\u001b[0m     \u001b[0;34m@\u001b[0m\u001b[0mclassmethod\u001b[0m\u001b[0;34m\u001b[0m\u001b[0;34m\u001b[0m\u001b[0m\n",
      "\u001b[0;32m~/anaconda3/lib/python3.8/site-packages/pkg_resources/__init__.py\u001b[0m in \u001b[0;36madd_entry\u001b[0;34m(self, entry)\u001b[0m\n\u001b[1;32m    620\u001b[0m         \u001b[0mself\u001b[0m\u001b[0;34m.\u001b[0m\u001b[0mentry_keys\u001b[0m\u001b[0;34m.\u001b[0m\u001b[0msetdefault\u001b[0m\u001b[0;34m(\u001b[0m\u001b[0mentry\u001b[0m\u001b[0;34m,\u001b[0m \u001b[0;34m[\u001b[0m\u001b[0;34m]\u001b[0m\u001b[0;34m)\u001b[0m\u001b[0;34m\u001b[0m\u001b[0;34m\u001b[0m\u001b[0m\n\u001b[1;32m    621\u001b[0m         \u001b[0mself\u001b[0m\u001b[0;34m.\u001b[0m\u001b[0mentries\u001b[0m\u001b[0;34m.\u001b[0m\u001b[0mappend\u001b[0m\u001b[0;34m(\u001b[0m\u001b[0mentry\u001b[0m\u001b[0;34m)\u001b[0m\u001b[0;34m\u001b[0m\u001b[0;34m\u001b[0m\u001b[0m\n\u001b[0;32m--> 622\u001b[0;31m         \u001b[0;32mfor\u001b[0m \u001b[0mdist\u001b[0m \u001b[0;32min\u001b[0m \u001b[0mfind_distributions\u001b[0m\u001b[0;34m(\u001b[0m\u001b[0mentry\u001b[0m\u001b[0;34m,\u001b[0m \u001b[0;32mTrue\u001b[0m\u001b[0;34m)\u001b[0m\u001b[0;34m:\u001b[0m\u001b[0;34m\u001b[0m\u001b[0;34m\u001b[0m\u001b[0m\n\u001b[0m\u001b[1;32m    623\u001b[0m             \u001b[0mself\u001b[0m\u001b[0;34m.\u001b[0m\u001b[0madd\u001b[0m\u001b[0;34m(\u001b[0m\u001b[0mdist\u001b[0m\u001b[0;34m,\u001b[0m \u001b[0mentry\u001b[0m\u001b[0;34m,\u001b[0m \u001b[0;32mFalse\u001b[0m\u001b[0;34m)\u001b[0m\u001b[0;34m\u001b[0m\u001b[0;34m\u001b[0m\u001b[0m\n\u001b[1;32m    624\u001b[0m \u001b[0;34m\u001b[0m\u001b[0m\n",
      "\u001b[0;32m~/anaconda3/lib/python3.8/site-packages/pkg_resources/__init__.py\u001b[0m in \u001b[0;36mfind_eggs_in_zip\u001b[0;34m(importer, path_item, only)\u001b[0m\n\u001b[1;32m   1991\u001b[0m         \u001b[0;32mreturn\u001b[0m\u001b[0;34m\u001b[0m\u001b[0;34m\u001b[0m\u001b[0m\n\u001b[1;32m   1992\u001b[0m     \u001b[0mmetadata\u001b[0m \u001b[0;34m=\u001b[0m \u001b[0mEggMetadata\u001b[0m\u001b[0;34m(\u001b[0m\u001b[0mimporter\u001b[0m\u001b[0;34m)\u001b[0m\u001b[0;34m\u001b[0m\u001b[0;34m\u001b[0m\u001b[0m\n\u001b[0;32m-> 1993\u001b[0;31m     \u001b[0;32mif\u001b[0m \u001b[0mmetadata\u001b[0m\u001b[0;34m.\u001b[0m\u001b[0mhas_metadata\u001b[0m\u001b[0;34m(\u001b[0m\u001b[0;34m'PKG-INFO'\u001b[0m\u001b[0;34m)\u001b[0m\u001b[0;34m:\u001b[0m\u001b[0;34m\u001b[0m\u001b[0;34m\u001b[0m\u001b[0m\n\u001b[0m\u001b[1;32m   1994\u001b[0m         \u001b[0;32myield\u001b[0m \u001b[0mDistribution\u001b[0m\u001b[0;34m.\u001b[0m\u001b[0mfrom_filename\u001b[0m\u001b[0;34m(\u001b[0m\u001b[0mpath_item\u001b[0m\u001b[0;34m,\u001b[0m \u001b[0mmetadata\u001b[0m\u001b[0;34m=\u001b[0m\u001b[0mmetadata\u001b[0m\u001b[0;34m)\u001b[0m\u001b[0;34m\u001b[0m\u001b[0;34m\u001b[0m\u001b[0m\n\u001b[1;32m   1995\u001b[0m     \u001b[0;32mif\u001b[0m \u001b[0monly\u001b[0m\u001b[0;34m:\u001b[0m\u001b[0;34m\u001b[0m\u001b[0;34m\u001b[0m\u001b[0m\n",
      "\u001b[0;32m~/anaconda3/lib/python3.8/site-packages/pkg_resources/__init__.py\u001b[0m in \u001b[0;36mhas_metadata\u001b[0;34m(self, name)\u001b[0m\n\u001b[1;32m   1412\u001b[0m \u001b[0;34m\u001b[0m\u001b[0m\n\u001b[1;32m   1413\u001b[0m         \u001b[0mpath\u001b[0m \u001b[0;34m=\u001b[0m \u001b[0mself\u001b[0m\u001b[0;34m.\u001b[0m\u001b[0m_get_metadata_path\u001b[0m\u001b[0;34m(\u001b[0m\u001b[0mname\u001b[0m\u001b[0;34m)\u001b[0m\u001b[0;34m\u001b[0m\u001b[0;34m\u001b[0m\u001b[0m\n\u001b[0;32m-> 1414\u001b[0;31m         \u001b[0;32mreturn\u001b[0m \u001b[0mself\u001b[0m\u001b[0;34m.\u001b[0m\u001b[0m_has\u001b[0m\u001b[0;34m(\u001b[0m\u001b[0mpath\u001b[0m\u001b[0;34m)\u001b[0m\u001b[0;34m\u001b[0m\u001b[0;34m\u001b[0m\u001b[0m\n\u001b[0m\u001b[1;32m   1415\u001b[0m \u001b[0;34m\u001b[0m\u001b[0m\n\u001b[1;32m   1416\u001b[0m     \u001b[0;32mdef\u001b[0m \u001b[0mget_metadata\u001b[0m\u001b[0;34m(\u001b[0m\u001b[0mself\u001b[0m\u001b[0;34m,\u001b[0m \u001b[0mname\u001b[0m\u001b[0;34m)\u001b[0m\u001b[0;34m:\u001b[0m\u001b[0;34m\u001b[0m\u001b[0;34m\u001b[0m\u001b[0m\n",
      "\u001b[0;32m~/anaconda3/lib/python3.8/site-packages/pkg_resources/__init__.py\u001b[0m in \u001b[0;36m_has\u001b[0;34m(self, fspath)\u001b[0m\n\u001b[1;32m   1862\u001b[0m     \u001b[0;32mdef\u001b[0m \u001b[0m_has\u001b[0m\u001b[0;34m(\u001b[0m\u001b[0mself\u001b[0m\u001b[0;34m,\u001b[0m \u001b[0mfspath\u001b[0m\u001b[0;34m)\u001b[0m\u001b[0;34m:\u001b[0m\u001b[0;34m\u001b[0m\u001b[0;34m\u001b[0m\u001b[0m\n\u001b[1;32m   1863\u001b[0m         \u001b[0mzip_path\u001b[0m \u001b[0;34m=\u001b[0m \u001b[0mself\u001b[0m\u001b[0;34m.\u001b[0m\u001b[0m_zipinfo_name\u001b[0m\u001b[0;34m(\u001b[0m\u001b[0mfspath\u001b[0m\u001b[0;34m)\u001b[0m\u001b[0;34m\u001b[0m\u001b[0;34m\u001b[0m\u001b[0m\n\u001b[0;32m-> 1864\u001b[0;31m         \u001b[0;32mreturn\u001b[0m \u001b[0mzip_path\u001b[0m \u001b[0;32min\u001b[0m \u001b[0mself\u001b[0m\u001b[0;34m.\u001b[0m\u001b[0mzipinfo\u001b[0m \u001b[0;32mor\u001b[0m \u001b[0mzip_path\u001b[0m \u001b[0;32min\u001b[0m \u001b[0mself\u001b[0m\u001b[0;34m.\u001b[0m\u001b[0m_index\u001b[0m\u001b[0;34m(\u001b[0m\u001b[0;34m)\u001b[0m\u001b[0;34m\u001b[0m\u001b[0;34m\u001b[0m\u001b[0m\n\u001b[0m\u001b[1;32m   1865\u001b[0m \u001b[0;34m\u001b[0m\u001b[0m\n\u001b[1;32m   1866\u001b[0m     \u001b[0;32mdef\u001b[0m \u001b[0m_isdir\u001b[0m\u001b[0;34m(\u001b[0m\u001b[0mself\u001b[0m\u001b[0;34m,\u001b[0m \u001b[0mfspath\u001b[0m\u001b[0;34m)\u001b[0m\u001b[0;34m:\u001b[0m\u001b[0;34m\u001b[0m\u001b[0;34m\u001b[0m\u001b[0m\n",
      "\u001b[0;32m~/anaconda3/lib/python3.8/site-packages/pkg_resources/__init__.py\u001b[0m in \u001b[0;36mzipinfo\u001b[0;34m(self)\u001b[0m\n\u001b[1;32m   1739\u001b[0m     \u001b[0;34m@\u001b[0m\u001b[0mproperty\u001b[0m\u001b[0;34m\u001b[0m\u001b[0;34m\u001b[0m\u001b[0m\n\u001b[1;32m   1740\u001b[0m     \u001b[0;32mdef\u001b[0m \u001b[0mzipinfo\u001b[0m\u001b[0;34m(\u001b[0m\u001b[0mself\u001b[0m\u001b[0;34m)\u001b[0m\u001b[0;34m:\u001b[0m\u001b[0;34m\u001b[0m\u001b[0;34m\u001b[0m\u001b[0m\n\u001b[0;32m-> 1741\u001b[0;31m         \u001b[0;32mreturn\u001b[0m \u001b[0mself\u001b[0m\u001b[0;34m.\u001b[0m\u001b[0m_zip_manifests\u001b[0m\u001b[0;34m.\u001b[0m\u001b[0mload\u001b[0m\u001b[0;34m(\u001b[0m\u001b[0mself\u001b[0m\u001b[0;34m.\u001b[0m\u001b[0mloader\u001b[0m\u001b[0;34m.\u001b[0m\u001b[0marchive\u001b[0m\u001b[0;34m)\u001b[0m\u001b[0;34m\u001b[0m\u001b[0;34m\u001b[0m\u001b[0m\n\u001b[0m\u001b[1;32m   1742\u001b[0m \u001b[0;34m\u001b[0m\u001b[0m\n\u001b[1;32m   1743\u001b[0m     \u001b[0;32mdef\u001b[0m \u001b[0mget_resource_filename\u001b[0m\u001b[0;34m(\u001b[0m\u001b[0mself\u001b[0m\u001b[0;34m,\u001b[0m \u001b[0mmanager\u001b[0m\u001b[0;34m,\u001b[0m \u001b[0mresource_name\u001b[0m\u001b[0;34m)\u001b[0m\u001b[0;34m:\u001b[0m\u001b[0;34m\u001b[0m\u001b[0;34m\u001b[0m\u001b[0m\n",
      "\u001b[0;32m~/anaconda3/lib/python3.8/site-packages/pkg_resources/__init__.py\u001b[0m in \u001b[0;36mload\u001b[0;34m(self, path)\u001b[0m\n\u001b[1;32m   1696\u001b[0m         \"\"\"\n\u001b[1;32m   1697\u001b[0m         \u001b[0mpath\u001b[0m \u001b[0;34m=\u001b[0m \u001b[0mos\u001b[0m\u001b[0;34m.\u001b[0m\u001b[0mpath\u001b[0m\u001b[0;34m.\u001b[0m\u001b[0mnormpath\u001b[0m\u001b[0;34m(\u001b[0m\u001b[0mpath\u001b[0m\u001b[0;34m)\u001b[0m\u001b[0;34m\u001b[0m\u001b[0;34m\u001b[0m\u001b[0m\n\u001b[0;32m-> 1698\u001b[0;31m         \u001b[0mmtime\u001b[0m \u001b[0;34m=\u001b[0m \u001b[0mos\u001b[0m\u001b[0;34m.\u001b[0m\u001b[0mstat\u001b[0m\u001b[0;34m(\u001b[0m\u001b[0mpath\u001b[0m\u001b[0;34m)\u001b[0m\u001b[0;34m.\u001b[0m\u001b[0mst_mtime\u001b[0m\u001b[0;34m\u001b[0m\u001b[0;34m\u001b[0m\u001b[0m\n\u001b[0m\u001b[1;32m   1699\u001b[0m \u001b[0;34m\u001b[0m\u001b[0m\n\u001b[1;32m   1700\u001b[0m         \u001b[0;32mif\u001b[0m \u001b[0mpath\u001b[0m \u001b[0;32mnot\u001b[0m \u001b[0;32min\u001b[0m \u001b[0mself\u001b[0m \u001b[0;32mor\u001b[0m \u001b[0mself\u001b[0m\u001b[0;34m[\u001b[0m\u001b[0mpath\u001b[0m\u001b[0;34m]\u001b[0m\u001b[0;34m.\u001b[0m\u001b[0mmtime\u001b[0m \u001b[0;34m!=\u001b[0m \u001b[0mmtime\u001b[0m\u001b[0;34m:\u001b[0m\u001b[0;34m\u001b[0m\u001b[0;34m\u001b[0m\u001b[0m\n",
      "\u001b[0;31mFileNotFoundError\u001b[0m: [Errno 2] No such file or directory: '/home/solsane/anaconda3/lib/python3.8/site-packages/CA_Visual_Fingerprinter-0.0.9_vf-py3.8.egg'"
     ]
    }
   ],
   "source": [
    "repo.df.to_hdf('self_index.h5', key='df', mode='w')"
   ]
  },
  {
   "cell_type": "code",
   "execution_count": null,
   "metadata": {},
   "outputs": [],
   "source": [
    "# by file, "
   ]
  },
  {
   "cell_type": "code",
   "execution_count": 10,
   "metadata": {},
   "outputs": [],
   "source": [
    "# plot a heatmap\n",
    "resolution = (200,300)\n",
    "offset=(0,3) # offset = df.file_x_offset + df_file_y_offset+3\n",
    "# freq = \n",
    "# repo.df.groupby('token_type')\n",
    "# get data within our resolution"
   ]
  },
  {
   "cell_type": "code",
   "execution_count": 11,
   "metadata": {},
   "outputs": [
    {
     "output_type": "stream",
     "name": "stdout",
     "text": [
      "(0, Token.Keyword.Namespace, 'from')\n(4, Token.Text, ' ')\n(5, Token.Name.Namespace, 'sys')\n(8, Token.Text, ' ')\n(9, Token.Keyword.Namespace, 'import')\n(15, Token.Text, ' ')\n(16, Token.Name, 'argv')\n(20, Token.Text, '\\n')\n(21, Token.Keyword.Namespace, 'import')\n(27, Token.Text, ' ')\n(28, Token.Name.Namespace, 'json')\n(32, Token.Text, '\\n')\n(33, Token.Keyword.Namespace, 'import')\n(39, Token.Text, ' ')\n(40, Token.Name.Namespace, 'math')\n(44, Token.Text, '\\n')\n(45, Token.Keyword.Namespace, 'import')\n(51, Token.Text, ' ')\n(52, Token.Name.Namespace, 'matplotlib')\n(62, Token.Name.Namespace, '.')\n(63, Token.Name.Namespace, 'pyplot')\n(69, Token.Text, ' ')\n(70, Token.Keyword, 'as')\n(72, Token.Text, ' ')\n(73, Token.Name.Namespace, 'plt')\n(76, Token.Text, '\\n')\n(77, Token.Keyword.Namespace, 'from')\n(81, Token.Text, ' ')\n(82, Token.Name.Namespace, 'matplotlib')\n(92, Token.Name.Namespace, '.')\n(93, Token.Name.Namespace, 'image')\n(98, Token.Text, ' ')\n(99, Token.Keyword.Namespace, 'import')\n(105, Token.Text, ' ')\n(106, Token.Name, 'NonUniformImage')\n(121, Token.Text, '\\n')\n(122, Token.Keyword.Namespace, 'import')\n(128, Token.Text, ' ')\n(129, Token.Name.Namespace, 'matplotlib')\n(139, Token.Name.Namespace, '.')\n(140, Token.Name.Namespace, 'colors')\n(146, Token.Text, ' ')\n(147, Token.Keyword, 'as')\n(149, Token.Text, ' ')\n(150, Token.Name.Namespace, 'colors')\n(156, Token.Text, '\\n')\n(157, Token.Text, '\\n')\n(158, Token.Keyword.Namespace, 'import')\n(164, Token.Text, ' ')\n(165, Token.Name.Namespace, 'numpy')\n(170, Token.Text, ' ')\n(171, Token.Keyword, 'as')\n(173, Token.Text, ' ')\n(174, Token.Name.Namespace, 'np')\n(176, Token.Text, '\\n')\n(177, Token.Literal.String.Doc, \"'''\\nPlot a heatmap of start index, end index location.\\nx is start/end idx's, y is the lineno, and frequency is \\nthe heat\\n'''\")\n(301, Token.Text, '\\n')\n(302, Token.Keyword, 'with')\n(306, Token.Text, ' ')\n(307, Token.Name.Builtin, 'open')\n(311, Token.Punctuation, '(')\n(312, Token.Name, 'argv')\n(316, Token.Punctuation, '[')\n(317, Token.Literal.Number.Integer, '1')\n(318, Token.Punctuation, ']')\n(319, Token.Punctuation, ')')\n(320, Token.Text, ' ')\n(321, Token.Keyword, 'as')\n(323, Token.Text, ' ')\n(324, Token.Name, 'json_file')\n(333, Token.Punctuation, ':')\n(334, Token.Text, '\\n')\n(335, Token.Text, '    ')\n(339, Token.Name, 'data')\n(343, Token.Text, ' ')\n(344, Token.Operator, '=')\n(345, Token.Text, ' ')\n(346, Token.Name, 'json')\n(350, Token.Operator, '.')\n(351, Token.Name, 'load')\n(355, Token.Punctuation, '(')\n(356, Token.Name, 'json_file')\n(365, Token.Punctuation, ')')\n(366, Token.Text, '\\n')\n(367, Token.Text, '\\n')\n(368, Token.Text, '\\n')\n(369, Token.Text, '    ')\n(373, Token.Comment.Single, '# Set up data')\n(386, Token.Text, '\\n')\n(387, Token.Text, '    ')\n(391, Token.Comment.Single, \"# print(data['avg_file_length'])\")\n(423, Token.Text, '\\n')\n(424, Token.Text, '    ')\n(428, Token.Name, 'data')\n(432, Token.Text, ' ')\n(433, Token.Operator, '=')\n(434, Token.Text, ' ')\n(435, Token.Name, 'data')\n(439, Token.Punctuation, '[')\n(440, Token.Literal.String.Single, \"'\")\n(441, Token.Literal.String.Single, 'line_freqs')\n(451, Token.Literal.String.Single, \"'\")\n(452, Token.Punctuation, ']')\n(453, Token.Punctuation, '[')\n(454, Token.Punctuation, ':')\n(455, Token.Name, 'math')\n(459, Token.Operator, '.')\n(460, Token.Name, 'ceil')\n(464, Token.Punctuation, '(')\n(465, Token.Name, 'data')\n(469, Token.Punctuation, '[')\n(470, Token.Literal.String.Single, \"'\")\n(471, Token.Literal.String.Single, 'avg_file_length')\n(486, Token.Literal.String.Single, \"'\")\n(487, Token.Punctuation, ']')\n(488, Token.Punctuation, ')')\n(489, Token.Punctuation, ']')\n(490, Token.Text, '\\n')\n(491, Token.Text, '    ')\n(495, Token.Name, 'x')\n(496, Token.Text, ' ')\n(497, Token.Operator, '=')\n(498, Token.Text, ' ')\n(499, Token.Punctuation, '[')\n(500, Token.Punctuation, ']')\n(501, Token.Text, '\\n')\n(502, Token.Text, '    ')\n(506, Token.Name, 'y')\n(507, Token.Text, ' ')\n(508, Token.Operator, '=')\n(509, Token.Text, ' ')\n(510, Token.Punctuation, '[')\n(511, Token.Punctuation, ']')\n(512, Token.Text, '\\n')\n(513, Token.Text, '    ')\n(517, Token.Name, 'heat')\n(521, Token.Text, ' ')\n(522, Token.Operator, '=')\n(523, Token.Text, ' ')\n(524, Token.Punctuation, '[')\n(525, Token.Punctuation, ']')\n(526, Token.Text, '\\n')\n(527, Token.Text, '    ')\n(531, Token.Keyword, 'for')\n(534, Token.Text, ' ')\n(535, Token.Name, 'line_num')\n(543, Token.Punctuation, ',')\n(544, Token.Text, ' ')\n(545, Token.Name, 'line_obj')\n(553, Token.Text, ' ')\n(554, Token.Operator.Word, 'in')\n(556, Token.Text, ' ')\n(557, Token.Name.Builtin, 'enumerate')\n(566, Token.Punctuation, '(')\n(567, Token.Name, 'data')\n(571, Token.Punctuation, ')')\n(572, Token.Punctuation, ':')\n(573, Token.Text, '\\n')\n(574, Token.Text, '        ')\n(582, Token.Keyword, 'for')\n(585, Token.Text, ' ')\n(586, Token.Name, 'idx')\n(589, Token.Punctuation, ',')\n(590, Token.Text, ' ')\n(591, Token.Name, 'freq')\n(595, Token.Text, ' ')\n(596, Token.Operator.Word, 'in')\n(598, Token.Text, ' ')\n(599, Token.Name, 'line_obj')\n(607, Token.Punctuation, '[')\n(608, Token.Literal.String.Single, \"'\")\n(609, Token.Literal.String.Single, 'start_indexes')\n(622, Token.Literal.String.Single, \"'\")\n(623, Token.Punctuation, ']')\n(624, Token.Operator, '.')\n(625, Token.Name, 'items')\n(630, Token.Punctuation, '(')\n(631, Token.Punctuation, ')')\n(632, Token.Punctuation, ':')\n(633, Token.Text, '\\n')\n(634, Token.Text, '            ')\n(646, Token.Name, 'y')\n(647, Token.Operator, '.')\n(648, Token.Name, 'append')\n(654, Token.Punctuation, '(')\n(655, Token.Name, 'line_num')\n(663, Token.Punctuation, ')')\n(664, Token.Text, '\\n')\n(665, Token.Text, '            ')\n(677, Token.Name, 'x')\n(678, Token.Operator, '.')\n(679, Token.Name, 'append')\n(685, Token.Punctuation, '(')\n(686, Token.Name.Builtin, 'int')\n(689, Token.Punctuation, '(')\n(690, Token.Name, 'idx')\n(693, Token.Punctuation, ')')\n(694, Token.Punctuation, ')')\n(695, Token.Text, '\\n')\n(696, Token.Text, '            ')\n(708, Token.Name, 'heat')\n(712, Token.Operator, '.')\n(713, Token.Name, 'append')\n(719, Token.Punctuation, '(')\n(720, Token.Name, 'freq')\n(724, Token.Punctuation, ')')\n(725, Token.Text, '\\n')\n(726, Token.Text, '\\n')\n(727, Token.Text, '    ')\n(731, Token.Comment.Single, '# Get the max x to convert to an array')\n(769, Token.Text, '\\n')\n(770, Token.Text, '    ')\n(774, Token.Name, 'max_x')\n(779, Token.Text, ' ')\n(780, Token.Operator, '=')\n(781, Token.Text, ' ')\n(782, Token.Name.Builtin, 'max')\n(785, Token.Punctuation, '(')\n(786, Token.Name, 'x')\n(787, Token.Punctuation, ')')\n(788, Token.Text, '\\n')\n(789, Token.Text, '    ')\n(793, Token.Name.Builtin, 'print')\n(798, Token.Punctuation, '(')\n(799, Token.Name, 'max_x')\n(804, Token.Punctuation, ')')\n(805, Token.Text, '\\n')\n(806, Token.Text, '    ')\n(810, Token.Name, 'frequencies')\n(821, Token.Text, ' ')\n(822, Token.Operator, '=')\n(823, Token.Text, ' ')\n(824, Token.Name, 'np')\n(826, Token.Operator, '.')\n(827, Token.Name, 'zeros')\n(832, Token.Punctuation, '(')\n(833, Token.Punctuation, '(')\n(834, Token.Name.Builtin, 'len')\n(837, Token.Punctuation, '(')\n(838, Token.Name, 'data')\n(842, Token.Punctuation, ')')\n(843, Token.Punctuation, ',')\n(844, Token.Text, ' ')\n(845, Token.Name, 'max_x')\n(850, Token.Operator, '+')\n(851, Token.Literal.Number.Integer, '1')\n(852, Token.Punctuation, ')')\n(853, Token.Punctuation, ',')\n(854, Token.Text, ' ')\n(855, Token.Name, 'dtype')\n(860, Token.Operator, '=')\n(861, Token.Name.Builtin, 'int')\n(864, Token.Punctuation, ')')\n(865, Token.Text, '\\n')\n(866, Token.Text, '    ')\n(870, Token.Keyword, 'for')\n(873, Token.Text, ' ')\n(874, Token.Name, 'line_num')\n(882, Token.Punctuation, ',')\n(883, Token.Text, ' ')\n(884, Token.Name, 'line_obj')\n(892, Token.Text, ' ')\n(893, Token.Operator.Word, 'in')\n(895, Token.Text, ' ')\n(896, Token.Name.Builtin, 'enumerate')\n(905, Token.Punctuation, '(')\n(906, Token.Name, 'data')\n(910, Token.Punctuation, ')')\n(911, Token.Punctuation, ':')\n(912, Token.Text, '\\n')\n(913, Token.Text, '        ')\n(921, Token.Keyword, 'for')\n(924, Token.Text, ' ')\n(925, Token.Name, 'idx')\n(928, Token.Punctuation, ',')\n(929, Token.Text, ' ')\n(930, Token.Name, 'freq')\n(934, Token.Text, ' ')\n(935, Token.Operator.Word, 'in')\n(937, Token.Text, ' ')\n(938, Token.Name, 'line_obj')\n(946, Token.Punctuation, '[')\n(947, Token.Literal.String.Single, \"'\")\n(948, Token.Literal.String.Single, 'start_indexes')\n(961, Token.Literal.String.Single, \"'\")\n(962, Token.Punctuation, ']')\n(963, Token.Operator, '.')\n(964, Token.Name, 'items')\n(969, Token.Punctuation, '(')\n(970, Token.Punctuation, ')')\n(971, Token.Punctuation, ':')\n(972, Token.Text, '\\n')\n(973, Token.Text, '            ')\n(985, Token.Name, 'frequencies')\n(996, Token.Punctuation, '[')\n(997, Token.Name, 'line_num')\n(1005, Token.Punctuation, ']')\n(1006, Token.Punctuation, '[')\n(1007, Token.Name.Builtin, 'int')\n(1010, Token.Punctuation, '(')\n(1011, Token.Name, 'idx')\n(1014, Token.Punctuation, ')')\n(1015, Token.Punctuation, ']')\n(1016, Token.Text, ' ')\n(1017, Token.Operator, '=')\n(1018, Token.Text, ' ')\n(1019, Token.Name, 'freq')\n(1023, Token.Text, '\\n')\n(1024, Token.Text, '\\n')\n(1025, Token.Text, '    ')\n(1029, Token.Comment.Single, '# frequencies = frequencies[:, :40]')\n(1064, Token.Text, '\\n')\n(1065, Token.Text, '    ')\n(1069, Token.Comment.Single, '# Get rid of the odd layers')\n(1096, Token.Text, '\\n')\n(1097, Token.Text, '    ')\n(1101, Token.Comment.Single, '# frequencies = np.delete(frequencies, np.s_[1::2], 1)')\n(1155, Token.Text, '\\n')\n(1156, Token.Text, '    ')\n(1160, Token.Name.Builtin, 'print')\n(1165, Token.Punctuation, '(')\n(1166, Token.Name, 'frequencies')\n(1177, Token.Punctuation, ')')\n(1178, Token.Text, '\\n')\n(1179, Token.Text, '\\n')\n(1180, Token.Text, '    ')\n(1184, Token.Name, 'ax')\n(1186, Token.Text, ' ')\n(1187, Token.Operator, '=')\n(1188, Token.Text, ' ')\n(1189, Token.Name, 'plt')\n(1192, Token.Operator, '.')\n(1193, Token.Name, 'gca')\n(1196, Token.Punctuation, '(')\n(1197, Token.Punctuation, ')')\n(1198, Token.Text, '\\n')\n(1199, Token.Text, '\\n')\n(1200, Token.Text, '    ')\n(1204, Token.Name, 'im')\n(1206, Token.Text, ' ')\n(1207, Token.Operator, '=')\n(1208, Token.Text, ' ')\n(1209, Token.Name, 'plt')\n(1212, Token.Operator, '.')\n(1213, Token.Name, 'imshow')\n(1219, Token.Punctuation, '(')\n(1220, Token.Name, 'frequencies')\n(1231, Token.Punctuation, ',')\n(1232, Token.Text, ' ')\n(1233, Token.Name, 'aspect')\n(1239, Token.Operator, '=')\n(1240, Token.Literal.String.Single, \"'\")\n(1241, Token.Literal.String.Single, 'equal')\n(1246, Token.Literal.String.Single, \"'\")\n(1247, Token.Punctuation, ',')\n(1248, Token.Text, ' ')\n(1249, Token.Name, 'cmap')\n(1253, Token.Operator, '=')\n(1254, Token.Literal.String.Single, \"'\")\n(1255, Token.Literal.String.Single, 'inferno')\n(1262, Token.Literal.String.Single, \"'\")\n(1263, Token.Punctuation, ',')\n(1264, Token.Text, '\\n')\n(1265, Token.Text, '        ')\n(1273, Token.Name, 'norm')\n(1277, Token.Operator, '=')\n(1278, Token.Name, 'colors')\n(1284, Token.Operator, '.')\n(1285, Token.Name, 'LogNorm')\n(1292, Token.Punctuation, '(')\n(1293, Token.Name, 'vmin')\n(1297, Token.Operator, '=')\n(1298, Token.Literal.Number.Integer, '1')\n(1299, Token.Punctuation, ',')\n(1300, Token.Text, ' ')\n(1301, Token.Name, 'vmax')\n(1305, Token.Operator, '=')\n(1306, Token.Name, 'np')\n(1308, Token.Operator, '.')\n(1309, Token.Name, 'amax')\n(1313, Token.Punctuation, '(')\n(1314, Token.Name, 'frequencies')\n(1325, Token.Punctuation, ')')\n(1326, Token.Punctuation, ')')\n(1327, Token.Punctuation, ')')\n(1328, Token.Text, '\\n')\n(1329, Token.Text, '    ')\n(1333, Token.Text, '\\n')\n(1334, Token.Text, '    ')\n(1338, Token.Text, '\\n')\n(1339, Token.Text, '    ')\n(1343, Token.Name, 'cbar')\n(1347, Token.Text, ' ')\n(1348, Token.Operator, '=')\n(1349, Token.Text, ' ')\n(1350, Token.Name, 'ax')\n(1352, Token.Operator, '.')\n(1353, Token.Name, 'figure')\n(1359, Token.Operator, '.')\n(1360, Token.Name, 'colorbar')\n(1368, Token.Punctuation, '(')\n(1369, Token.Name, 'im')\n(1371, Token.Punctuation, ',')\n(1372, Token.Text, ' ')\n(1373, Token.Name, 'ax')\n(1375, Token.Operator, '=')\n(1376, Token.Name, 'ax')\n(1378, Token.Punctuation, ',')\n(1379, Token.Text, ' ')\n(1380, Token.Name, 'orientation')\n(1391, Token.Operator, '=')\n(1392, Token.Literal.String.Double, '\"')\n(1393, Token.Literal.String.Double, 'horizontal')\n(1403, Token.Literal.String.Double, '\"')\n(1404, Token.Punctuation, ')')\n(1405, Token.Text, '\\n')\n(1406, Token.Text, '\\n')\n(1407, Token.Text, '    ')\n(1411, Token.Name, 'plt')\n(1414, Token.Operator, '.')\n(1415, Token.Name, 'xticks')\n(1421, Token.Punctuation, '(')\n(1422, Token.Name, 'np')\n(1424, Token.Operator, '.')\n(1425, Token.Name, 'arange')\n(1431, Token.Punctuation, '(')\n(1432, Token.Literal.Number.Integer, '0')\n(1433, Token.Punctuation, ',')\n(1434, Token.Text, ' ')\n(1435, Token.Name, 'frequencies')\n(1446, Token.Operator, '.')\n(1447, Token.Name, 'shape')\n(1452, Token.Punctuation, '[')\n(1453, Token.Literal.Number.Integer, '1')\n(1454, Token.Punctuation, ']')\n(1455, Token.Punctuation, ',')\n(1456, Token.Text, ' ')\n(1457, Token.Name, 'step')\n(1461, Token.Operator, '=')\n(1462, Token.Literal.Number.Integer, '2')\n(1463, Token.Punctuation, ')')\n(1464, Token.Punctuation, ')')\n(1465, Token.Text, '\\n')\n(1466, Token.Text, '    ')\n(1470, Token.Name, 'plt')\n(1473, Token.Operator, '.')\n(1474, Token.Name, 'yticks')\n(1480, Token.Punctuation, '(')\n(1481, Token.Name, 'np')\n(1483, Token.Operator, '.')\n(1484, Token.Name, 'arange')\n(1490, Token.Punctuation, '(')\n(1491, Token.Literal.Number.Integer, '0')\n(1492, Token.Punctuation, ',')\n(1493, Token.Text, ' ')\n(1494, Token.Name, 'frequencies')\n(1505, Token.Operator, '.')\n(1506, Token.Name, 'shape')\n(1511, Token.Punctuation, '[')\n(1512, Token.Literal.Number.Integer, '1')\n(1513, Token.Punctuation, ']')\n(1514, Token.Punctuation, ',')\n(1515, Token.Text, ' ')\n(1516, Token.Name, 'step')\n(1520, Token.Operator, '=')\n(1521, Token.Literal.Number.Integer, '10')\n(1523, Token.Punctuation, ')')\n(1524, Token.Punctuation, ')')\n(1525, Token.Text, '\\n')\n(1526, Token.Text, '    ')\n(1530, Token.Name, 'ax')\n(1532, Token.Operator, '.')\n(1533, Token.Name, 'set_title')\n(1542, Token.Punctuation, '(')\n(1543, Token.Literal.String.Single, \"'\")\n(1544, Token.Literal.String.Single, 'Clang: Heatmap of indentation levels')\n(1580, Token.Literal.String.Single, \"'\")\n(1581, Token.Punctuation, ')')\n(1582, Token.Text, '\\n')\n(1583, Token.Text, '    ')\n(1587, Token.Name, 'ax')\n(1589, Token.Operator, '.')\n(1590, Token.Name, 'set_xlabel')\n(1600, Token.Punctuation, '(')\n(1601, Token.Literal.String.Single, \"'\")\n(1602, Token.Literal.String.Single, 'Indentation level')\n(1619, Token.Literal.String.Single, \"'\")\n(1620, Token.Punctuation, ')')\n(1621, Token.Text, '\\n')\n(1622, Token.Text, '    ')\n(1626, Token.Name, 'ax')\n(1628, Token.Operator, '.')\n(1629, Token.Name, 'set_ylabel')\n(1639, Token.Punctuation, '(')\n(1640, Token.Literal.String.Single, \"'\")\n(1641, Token.Literal.String.Single, 'Line number')\n(1652, Token.Literal.String.Single, \"'\")\n(1653, Token.Punctuation, ')')\n(1654, Token.Text, '\\n')\n(1655, Token.Text, '    ')\n(1659, Token.Name, 'plt')\n(1662, Token.Operator, '.')\n(1663, Token.Name, 'grid')\n(1667, Token.Punctuation, '(')\n(1668, Token.Punctuation, ')')\n(1669, Token.Text, '\\n')\n(1670, Token.Text, '    ')\n(1674, Token.Name, 'plt')\n(1677, Token.Operator, '.')\n(1678, Token.Name, 'show')\n(1682, Token.Punctuation, '(')\n(1683, Token.Punctuation, ')')\n(1684, Token.Text, '\\n')\n(1685, Token.Text, '\\n')\n"
     ]
    }
   ],
   "source": [
    "from pygments.lexers import PythonLexer\n",
    "import codecs\n",
    "input_path = './plot_indentation_level.py'\n",
    "# with codecs.open(input_path, 'r', encoding='utf-8', errors='ignore') as fin:\n",
    "with open(input_path, 'r') as fin:\n",
    "    f = PythonLexer()\n",
    "    tokens = f.get_tokens_unprocessed(fin.read())\n",
    "    for token in tokens:\n",
    "        print(token)"
   ]
  },
  {
   "cell_type": "code",
   "execution_count": 15,
   "metadata": {},
   "outputs": [
    {
     "output_type": "error",
     "ename": "LinkError",
     "evalue": "command 'cc' failed with exit status 1",
     "traceback": [
      "\u001b[0;31m---------------------------------------------------------------------------\u001b[0m",
      "\u001b[0;31mDistutilsExecError\u001b[0m                        Traceback (most recent call last)",
      "\u001b[0;32m~/anaconda3/lib/python3.8/distutils/unixccompiler.py\u001b[0m in \u001b[0;36mlink\u001b[0;34m(self, target_desc, objects, output_filename, output_dir, libraries, library_dirs, runtime_library_dirs, export_symbols, debug, extra_preargs, extra_postargs, build_temp, target_lang)\u001b[0m\n\u001b[1;32m    204\u001b[0m \u001b[0;34m\u001b[0m\u001b[0m\n\u001b[0;32m--> 205\u001b[0;31m                 \u001b[0mself\u001b[0m\u001b[0;34m.\u001b[0m\u001b[0mspawn\u001b[0m\u001b[0;34m(\u001b[0m\u001b[0mlinker\u001b[0m \u001b[0;34m+\u001b[0m \u001b[0mld_args\u001b[0m\u001b[0;34m)\u001b[0m\u001b[0;34m\u001b[0m\u001b[0;34m\u001b[0m\u001b[0m\n\u001b[0m\u001b[1;32m    206\u001b[0m             \u001b[0;32mexcept\u001b[0m \u001b[0mDistutilsExecError\u001b[0m \u001b[0;32mas\u001b[0m \u001b[0mmsg\u001b[0m\u001b[0;34m:\u001b[0m\u001b[0;34m\u001b[0m\u001b[0;34m\u001b[0m\u001b[0m\n",
      "\u001b[0;32m~/anaconda3/lib/python3.8/distutils/ccompiler.py\u001b[0m in \u001b[0;36mspawn\u001b[0;34m(self, cmd)\u001b[0m\n\u001b[1;32m    909\u001b[0m     \u001b[0;32mdef\u001b[0m \u001b[0mspawn\u001b[0m\u001b[0;34m(\u001b[0m\u001b[0mself\u001b[0m\u001b[0;34m,\u001b[0m \u001b[0mcmd\u001b[0m\u001b[0;34m)\u001b[0m\u001b[0;34m:\u001b[0m\u001b[0;34m\u001b[0m\u001b[0;34m\u001b[0m\u001b[0m\n\u001b[0;32m--> 910\u001b[0;31m         \u001b[0mspawn\u001b[0m\u001b[0;34m(\u001b[0m\u001b[0mcmd\u001b[0m\u001b[0;34m,\u001b[0m \u001b[0mdry_run\u001b[0m\u001b[0;34m=\u001b[0m\u001b[0mself\u001b[0m\u001b[0;34m.\u001b[0m\u001b[0mdry_run\u001b[0m\u001b[0;34m)\u001b[0m\u001b[0;34m\u001b[0m\u001b[0;34m\u001b[0m\u001b[0m\n\u001b[0m\u001b[1;32m    911\u001b[0m \u001b[0;34m\u001b[0m\u001b[0m\n",
      "\u001b[0;32m~/anaconda3/lib/python3.8/distutils/spawn.py\u001b[0m in \u001b[0;36mspawn\u001b[0;34m(cmd, search_path, verbose, dry_run)\u001b[0m\n\u001b[1;32m     35\u001b[0m     \u001b[0;32mif\u001b[0m \u001b[0mos\u001b[0m\u001b[0;34m.\u001b[0m\u001b[0mname\u001b[0m \u001b[0;34m==\u001b[0m \u001b[0;34m'posix'\u001b[0m\u001b[0;34m:\u001b[0m\u001b[0;34m\u001b[0m\u001b[0;34m\u001b[0m\u001b[0m\n\u001b[0;32m---> 36\u001b[0;31m         \u001b[0m_spawn_posix\u001b[0m\u001b[0;34m(\u001b[0m\u001b[0mcmd\u001b[0m\u001b[0;34m,\u001b[0m \u001b[0msearch_path\u001b[0m\u001b[0;34m,\u001b[0m \u001b[0mdry_run\u001b[0m\u001b[0;34m=\u001b[0m\u001b[0mdry_run\u001b[0m\u001b[0;34m)\u001b[0m\u001b[0;34m\u001b[0m\u001b[0;34m\u001b[0m\u001b[0m\n\u001b[0m\u001b[1;32m     37\u001b[0m     \u001b[0;32melif\u001b[0m \u001b[0mos\u001b[0m\u001b[0;34m.\u001b[0m\u001b[0mname\u001b[0m \u001b[0;34m==\u001b[0m \u001b[0;34m'nt'\u001b[0m\u001b[0;34m:\u001b[0m\u001b[0;34m\u001b[0m\u001b[0;34m\u001b[0m\u001b[0m\n",
      "\u001b[0;32m~/anaconda3/lib/python3.8/distutils/spawn.py\u001b[0m in \u001b[0;36m_spawn_posix\u001b[0;34m(cmd, search_path, verbose, dry_run)\u001b[0m\n\u001b[1;32m    156\u001b[0m                         \u001b[0mcmd\u001b[0m \u001b[0;34m=\u001b[0m \u001b[0mexecutable\u001b[0m\u001b[0;34m\u001b[0m\u001b[0;34m\u001b[0m\u001b[0m\n\u001b[0;32m--> 157\u001b[0;31m                     raise DistutilsExecError(\n\u001b[0m\u001b[1;32m    158\u001b[0m                           \u001b[0;34m\"command %r failed with exit status %d\"\u001b[0m\u001b[0;34m\u001b[0m\u001b[0;34m\u001b[0m\u001b[0m\n",
      "\u001b[0;31mDistutilsExecError\u001b[0m: command 'cc' failed with exit status 1",
      "\nDuring handling of the above exception, another exception occurred:\n",
      "\u001b[0;31mLinkError\u001b[0m                                 Traceback (most recent call last)",
      "\u001b[0;32m<ipython-input-15-9ab5178c80d9>\u001b[0m in \u001b[0;36m<module>\u001b[0;34m\u001b[0m\n\u001b[1;32m      1\u001b[0m \u001b[0;32mfrom\u001b[0m \u001b[0mtree_sitter\u001b[0m \u001b[0;32mimport\u001b[0m \u001b[0mLanguage\u001b[0m\u001b[0;34m,\u001b[0m \u001b[0mParser\u001b[0m\u001b[0;34m\u001b[0m\u001b[0;34m\u001b[0m\u001b[0m\n\u001b[1;32m      2\u001b[0m \u001b[0;34m\u001b[0m\u001b[0m\n\u001b[0;32m----> 3\u001b[0;31m Language.build_library(\n\u001b[0m\u001b[1;32m      4\u001b[0m   \u001b[0;31m# Store the library in the `build` directory\u001b[0m\u001b[0;34m\u001b[0m\u001b[0;34m\u001b[0m\u001b[0;34m\u001b[0m\u001b[0m\n\u001b[1;32m      5\u001b[0m   \u001b[0;34m'build/my-languages.so'\u001b[0m\u001b[0;34m,\u001b[0m\u001b[0;34m\u001b[0m\u001b[0;34m\u001b[0m\u001b[0m\n",
      "\u001b[0;32m~/anaconda3/lib/python3.8/site-packages/tree_sitter/__init__.py\u001b[0m in \u001b[0;36mbuild_library\u001b[0;34m(output_path, repo_paths)\u001b[0m\n\u001b[1;32m     70\u001b[0m                     )[0]\n\u001b[1;32m     71\u001b[0m                 )\n\u001b[0;32m---> 72\u001b[0;31m             \u001b[0mcompiler\u001b[0m\u001b[0;34m.\u001b[0m\u001b[0mlink_shared_object\u001b[0m\u001b[0;34m(\u001b[0m\u001b[0mobject_paths\u001b[0m\u001b[0;34m,\u001b[0m \u001b[0moutput_path\u001b[0m\u001b[0;34m)\u001b[0m\u001b[0;34m\u001b[0m\u001b[0;34m\u001b[0m\u001b[0m\n\u001b[0m\u001b[1;32m     73\u001b[0m         \u001b[0;32mreturn\u001b[0m \u001b[0;32mTrue\u001b[0m\u001b[0;34m\u001b[0m\u001b[0;34m\u001b[0m\u001b[0m\n\u001b[1;32m     74\u001b[0m \u001b[0;34m\u001b[0m\u001b[0m\n",
      "\u001b[0;32m~/anaconda3/lib/python3.8/distutils/ccompiler.py\u001b[0m in \u001b[0;36mlink_shared_object\u001b[0;34m(self, objects, output_filename, output_dir, libraries, library_dirs, runtime_library_dirs, export_symbols, debug, extra_preargs, extra_postargs, build_temp, target_lang)\u001b[0m\n\u001b[1;32m    711\u001b[0m                            \u001b[0mbuild_temp\u001b[0m\u001b[0;34m=\u001b[0m\u001b[0;32mNone\u001b[0m\u001b[0;34m,\u001b[0m\u001b[0;34m\u001b[0m\u001b[0;34m\u001b[0m\u001b[0m\n\u001b[1;32m    712\u001b[0m                            target_lang=None):\n\u001b[0;32m--> 713\u001b[0;31m         self.link(CCompiler.SHARED_OBJECT, objects,\n\u001b[0m\u001b[1;32m    714\u001b[0m                   \u001b[0moutput_filename\u001b[0m\u001b[0;34m,\u001b[0m \u001b[0moutput_dir\u001b[0m\u001b[0;34m,\u001b[0m\u001b[0;34m\u001b[0m\u001b[0;34m\u001b[0m\u001b[0m\n\u001b[1;32m    715\u001b[0m                   \u001b[0mlibraries\u001b[0m\u001b[0;34m,\u001b[0m \u001b[0mlibrary_dirs\u001b[0m\u001b[0;34m,\u001b[0m \u001b[0mruntime_library_dirs\u001b[0m\u001b[0;34m,\u001b[0m\u001b[0;34m\u001b[0m\u001b[0;34m\u001b[0m\u001b[0m\n",
      "\u001b[0;32m~/anaconda3/lib/python3.8/distutils/unixccompiler.py\u001b[0m in \u001b[0;36mlink\u001b[0;34m(self, target_desc, objects, output_filename, output_dir, libraries, library_dirs, runtime_library_dirs, export_symbols, debug, extra_preargs, extra_postargs, build_temp, target_lang)\u001b[0m\n\u001b[1;32m    205\u001b[0m                 \u001b[0mself\u001b[0m\u001b[0;34m.\u001b[0m\u001b[0mspawn\u001b[0m\u001b[0;34m(\u001b[0m\u001b[0mlinker\u001b[0m \u001b[0;34m+\u001b[0m \u001b[0mld_args\u001b[0m\u001b[0;34m)\u001b[0m\u001b[0;34m\u001b[0m\u001b[0;34m\u001b[0m\u001b[0m\n\u001b[1;32m    206\u001b[0m             \u001b[0;32mexcept\u001b[0m \u001b[0mDistutilsExecError\u001b[0m \u001b[0;32mas\u001b[0m \u001b[0mmsg\u001b[0m\u001b[0;34m:\u001b[0m\u001b[0;34m\u001b[0m\u001b[0;34m\u001b[0m\u001b[0m\n\u001b[0;32m--> 207\u001b[0;31m                 \u001b[0;32mraise\u001b[0m \u001b[0mLinkError\u001b[0m\u001b[0;34m(\u001b[0m\u001b[0mmsg\u001b[0m\u001b[0;34m)\u001b[0m\u001b[0;34m\u001b[0m\u001b[0;34m\u001b[0m\u001b[0m\n\u001b[0m\u001b[1;32m    208\u001b[0m         \u001b[0;32melse\u001b[0m\u001b[0;34m:\u001b[0m\u001b[0;34m\u001b[0m\u001b[0;34m\u001b[0m\u001b[0m\n\u001b[1;32m    209\u001b[0m             \u001b[0mlog\u001b[0m\u001b[0;34m.\u001b[0m\u001b[0mdebug\u001b[0m\u001b[0;34m(\u001b[0m\u001b[0;34m\"skipping %s (up-to-date)\"\u001b[0m\u001b[0;34m,\u001b[0m \u001b[0moutput_filename\u001b[0m\u001b[0;34m)\u001b[0m\u001b[0;34m\u001b[0m\u001b[0;34m\u001b[0m\u001b[0m\n",
      "\u001b[0;31mLinkError\u001b[0m: command 'cc' failed with exit status 1"
     ]
    }
   ],
   "source": [
    "from tree_sitter import Language, Parser\n",
    "\n",
    "Language.build_library(\n",
    "  # Store the library in the `build` directory\n",
    "  'build/my-languages.so',\n",
    "\n",
    "  # Include one or more languages\n",
    "  [\n",
    "    'tree-sitter-go',\n",
    "    'tree-sitter-javascript',\n",
    "    'tree-sitter-python'\n",
    "  ]\n",
    ")\n",
    "GO_LANGUAGE = Language('build/my-languages.so', 'go')\n",
    "JS_LANGUAGE = Language('build/my-languages.so', 'javascript')\n",
    "PY_LANGUAGE = Language('build/my-languages.so', 'python')"
   ]
  }
 ],
 "metadata": {
  "language_info": {
   "name": "python",
   "codemirror_mode": {
    "name": "ipython",
    "version": 3
   },
   "version": "3.8.3-final"
  },
  "orig_nbformat": 2,
  "file_extension": ".py",
  "mimetype": "text/x-python",
  "name": "python",
  "npconvert_exporter": "python",
  "pygments_lexer": "ipython3",
  "version": 3,
  "kernelspec": {
   "name": "Python 3.8.3 64-bit ('base': conda)",
   "display_name": "Python 3.8.3 64-bit ('base': conda)",
   "metadata": {
    "interpreter": {
     "hash": "2037f3a287b3f310f55f8e9cdaf3e3684283ce9d9cb22d557f2e67989dfc2a60"
    }
   }
  }
 },
 "nbformat": 4,
 "nbformat_minor": 2
}